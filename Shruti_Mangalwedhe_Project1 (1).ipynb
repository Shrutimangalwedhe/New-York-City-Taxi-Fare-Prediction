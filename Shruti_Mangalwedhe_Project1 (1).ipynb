{
 "cells": [
  {
   "cell_type": "markdown",
   "id": "4d307b75",
   "metadata": {},
   "source": [
    "### New York City Taxi Fare Prediction\n",
    "\n",
    "The task is to predict the fare amount (inclusive of tolls) for a taxi ride in New York City given the pickup and dropoff locations. While we can get a basic estimate based on just the distance between the two points, this will result in an RMSE of $5-$8, depending on the model used.Challenge is to do better than this using Machine Learning techniques!"
   ]
  },
  {
   "cell_type": "markdown",
   "id": "3b6f815d",
   "metadata": {},
   "source": [
    "### A project  made by Shruti"
   ]
  },
  {
   "cell_type": "markdown",
   "id": "3bd658bb",
   "metadata": {},
   "source": [
    "<h2>Target</h2>"
   ]
  },
  {
   "cell_type": "markdown",
   "id": "4ef7a1ab",
   "metadata": {},
   "source": [
    "<ul>\n",
    "<li><strong>amount</strong> - <code>float</code> dollar amount of the cost of the taxi ride.  This value is only in the training set; this is what you are predicting in the test set and it is required in your submission CSV.</li>\n",
    "</ul>"
   ]
  },
  {
   "cell_type": "markdown",
   "id": "7c015677",
   "metadata": {},
   "source": [
    "### Importing Required Librarires"
   ]
  },
  {
   "cell_type": "code",
   "execution_count": 78,
   "id": "afd45bf9",
   "metadata": {},
   "outputs": [],
   "source": [
    "import pandas as pd\n",
    "import numpy as np\n",
    "import matplotlib.pyplot as plt\n",
    "import seaborn as sns\n",
    "from sklearn.model_selection import train_test_split\n",
    "from sklearn.linear_model import LinearRegression"
   ]
  },
  {
   "cell_type": "markdown",
   "id": "6528570d",
   "metadata": {},
   "source": [
    "### Loading Data"
   ]
  },
  {
   "cell_type": "code",
   "execution_count": 80,
   "id": "c5c79884",
   "metadata": {},
   "outputs": [
    {
     "data": {
      "text/html": [
       "<div>\n",
       "<style scoped>\n",
       "    .dataframe tbody tr th:only-of-type {\n",
       "        vertical-align: middle;\n",
       "    }\n",
       "\n",
       "    .dataframe tbody tr th {\n",
       "        vertical-align: top;\n",
       "    }\n",
       "\n",
       "    .dataframe thead th {\n",
       "        text-align: right;\n",
       "    }\n",
       "</style>\n",
       "<table border=\"1\" class=\"dataframe\">\n",
       "  <thead>\n",
       "    <tr style=\"text-align: right;\">\n",
       "      <th></th>\n",
       "      <th>unique_id</th>\n",
       "      <th>amount</th>\n",
       "      <th>date_time_of_pickup</th>\n",
       "      <th>longitude_of_pickup</th>\n",
       "      <th>latitude_of_pickup</th>\n",
       "      <th>longitude_of_dropoff</th>\n",
       "      <th>latitude_of_dropoff</th>\n",
       "      <th>no_of_passenger</th>\n",
       "    </tr>\n",
       "  </thead>\n",
       "  <tbody>\n",
       "    <tr>\n",
       "      <th>0</th>\n",
       "      <td>26:21.0</td>\n",
       "      <td>4.5</td>\n",
       "      <td>2009-06-15 17:26:21 UTC</td>\n",
       "      <td>-73.844311</td>\n",
       "      <td>40.721319</td>\n",
       "      <td>-73.841610</td>\n",
       "      <td>40.712278</td>\n",
       "      <td>1</td>\n",
       "    </tr>\n",
       "    <tr>\n",
       "      <th>1</th>\n",
       "      <td>52:16.0</td>\n",
       "      <td>16.9</td>\n",
       "      <td>2010-01-05 16:52:16 UTC</td>\n",
       "      <td>-74.016048</td>\n",
       "      <td>40.711303</td>\n",
       "      <td>-73.979268</td>\n",
       "      <td>40.782004</td>\n",
       "      <td>1</td>\n",
       "    </tr>\n",
       "    <tr>\n",
       "      <th>2</th>\n",
       "      <td>35:00.0</td>\n",
       "      <td>5.7</td>\n",
       "      <td>2011-08-18 00:35:00 UTC</td>\n",
       "      <td>-73.982738</td>\n",
       "      <td>40.761270</td>\n",
       "      <td>-73.991242</td>\n",
       "      <td>40.750562</td>\n",
       "      <td>2</td>\n",
       "    </tr>\n",
       "    <tr>\n",
       "      <th>3</th>\n",
       "      <td>30:42.0</td>\n",
       "      <td>7.7</td>\n",
       "      <td>2012-04-21 04:30:42 UTC</td>\n",
       "      <td>-73.987130</td>\n",
       "      <td>40.733143</td>\n",
       "      <td>-73.991567</td>\n",
       "      <td>40.758092</td>\n",
       "      <td>1</td>\n",
       "    </tr>\n",
       "    <tr>\n",
       "      <th>4</th>\n",
       "      <td>51:00.0</td>\n",
       "      <td>5.3</td>\n",
       "      <td>2010-03-09 07:51:00 UTC</td>\n",
       "      <td>-73.968095</td>\n",
       "      <td>40.768008</td>\n",
       "      <td>-73.956655</td>\n",
       "      <td>40.783762</td>\n",
       "      <td>1</td>\n",
       "    </tr>\n",
       "  </tbody>\n",
       "</table>\n",
       "</div>"
      ],
      "text/plain": [
       "  unique_id  amount      date_time_of_pickup  longitude_of_pickup  \\\n",
       "0   26:21.0     4.5  2009-06-15 17:26:21 UTC           -73.844311   \n",
       "1   52:16.0    16.9  2010-01-05 16:52:16 UTC           -74.016048   \n",
       "2   35:00.0     5.7  2011-08-18 00:35:00 UTC           -73.982738   \n",
       "3   30:42.0     7.7  2012-04-21 04:30:42 UTC           -73.987130   \n",
       "4   51:00.0     5.3  2010-03-09 07:51:00 UTC           -73.968095   \n",
       "\n",
       "   latitude_of_pickup  longitude_of_dropoff  latitude_of_dropoff  \\\n",
       "0           40.721319            -73.841610            40.712278   \n",
       "1           40.711303            -73.979268            40.782004   \n",
       "2           40.761270            -73.991242            40.750562   \n",
       "3           40.733143            -73.991567            40.758092   \n",
       "4           40.768008            -73.956655            40.783762   \n",
       "\n",
       "   no_of_passenger  \n",
       "0                1  \n",
       "1                1  \n",
       "2                2  \n",
       "3                1  \n",
       "4                1  "
      ]
     },
     "execution_count": 80,
     "metadata": {},
     "output_type": "execute_result"
    }
   ],
   "source": [
    "m1=pd.read_csv(\"https://raw.githubusercontent.com/Premalatha-success/Datasets/main/TaxiFare.csv\")\n",
    "m1.head()"
   ]
  },
  {
   "cell_type": "code",
   "execution_count": 81,
   "id": "0c5c4de8",
   "metadata": {},
   "outputs": [],
   "source": [
    "# Variable for number of models used\n",
    "count = 0\n",
    "\n",
    "sc1tr= sc2tr= sc3tr= sc4tr= sc5tr= sc6tr= sc7tr= sc8tr= sc9tr= sc10tr= sc11tr= sc12tr= sc13tr = 0\n",
    "sc1ts= sc2ts= sc3ts= sc4ts= sc5ts= sc6ts= sc7ts= sc8ts = sc9ts= sc10ts= sc11ts= sc12ts= sc13ts = 0"
   ]
  },
  {
   "cell_type": "markdown",
   "id": "aae70b48",
   "metadata": {},
   "source": [
    "<p>Notes: </p>\n",
    "<ol>\n",
    "<li>The model can be run on both scaled and unscaled data by just commenting/uncommenting train_test_split.</li>\n",
    "<li>You can exclude a model by just commenting its code and output wont be affected.</li>\n",
    "</ol>"
   ]
  },
  {
   "cell_type": "markdown",
   "id": "5fb115a8",
   "metadata": {},
   "source": [
    "### Exploratory Data Analysis"
   ]
  },
  {
   "cell_type": "markdown",
   "id": "0eb34705",
   "metadata": {},
   "source": [
    "### 1) Numerical Analysis"
   ]
  },
  {
   "cell_type": "code",
   "execution_count": 4,
   "id": "401a73cf",
   "metadata": {},
   "outputs": [],
   "source": [
    "# df.drop('Unnamed: 0', axis= 1, inplace= True)"
   ]
  },
  {
   "cell_type": "code",
   "execution_count": 82,
   "id": "42b1fa58",
   "metadata": {},
   "outputs": [
    {
     "data": {
      "text/plain": [
       "(50000, 8)"
      ]
     },
     "execution_count": 82,
     "metadata": {},
     "output_type": "execute_result"
    }
   ],
   "source": [
    "m1.shape"
   ]
  },
  {
   "cell_type": "code",
   "execution_count": 83,
   "id": "75ecfbb6",
   "metadata": {},
   "outputs": [
    {
     "data": {
      "text/html": [
       "<div>\n",
       "<style scoped>\n",
       "    .dataframe tbody tr th:only-of-type {\n",
       "        vertical-align: middle;\n",
       "    }\n",
       "\n",
       "    .dataframe tbody tr th {\n",
       "        vertical-align: top;\n",
       "    }\n",
       "\n",
       "    .dataframe thead th {\n",
       "        text-align: right;\n",
       "    }\n",
       "</style>\n",
       "<table border=\"1\" class=\"dataframe\">\n",
       "  <thead>\n",
       "    <tr style=\"text-align: right;\">\n",
       "      <th></th>\n",
       "      <th>count</th>\n",
       "      <th>unique</th>\n",
       "      <th>top</th>\n",
       "      <th>freq</th>\n",
       "      <th>mean</th>\n",
       "      <th>std</th>\n",
       "      <th>min</th>\n",
       "      <th>25%</th>\n",
       "      <th>50%</th>\n",
       "      <th>75%</th>\n",
       "      <th>max</th>\n",
       "    </tr>\n",
       "  </thead>\n",
       "  <tbody>\n",
       "    <tr>\n",
       "      <th>unique_id</th>\n",
       "      <td>50000</td>\n",
       "      <td>3597</td>\n",
       "      <td>26:00.0</td>\n",
       "      <td>457</td>\n",
       "      <td>NaN</td>\n",
       "      <td>NaN</td>\n",
       "      <td>NaN</td>\n",
       "      <td>NaN</td>\n",
       "      <td>NaN</td>\n",
       "      <td>NaN</td>\n",
       "      <td>NaN</td>\n",
       "    </tr>\n",
       "    <tr>\n",
       "      <th>amount</th>\n",
       "      <td>50000.0</td>\n",
       "      <td>NaN</td>\n",
       "      <td>NaN</td>\n",
       "      <td>NaN</td>\n",
       "      <td>11.364171</td>\n",
       "      <td>9.685557</td>\n",
       "      <td>-5.0</td>\n",
       "      <td>6.0</td>\n",
       "      <td>8.5</td>\n",
       "      <td>12.5</td>\n",
       "      <td>200.0</td>\n",
       "    </tr>\n",
       "    <tr>\n",
       "      <th>date_time_of_pickup</th>\n",
       "      <td>50000</td>\n",
       "      <td>49555</td>\n",
       "      <td>2011-09-03 01:30:00 UTC</td>\n",
       "      <td>3</td>\n",
       "      <td>NaN</td>\n",
       "      <td>NaN</td>\n",
       "      <td>NaN</td>\n",
       "      <td>NaN</td>\n",
       "      <td>NaN</td>\n",
       "      <td>NaN</td>\n",
       "      <td>NaN</td>\n",
       "    </tr>\n",
       "    <tr>\n",
       "      <th>longitude_of_pickup</th>\n",
       "      <td>50000.0</td>\n",
       "      <td>NaN</td>\n",
       "      <td>NaN</td>\n",
       "      <td>NaN</td>\n",
       "      <td>-72.509756</td>\n",
       "      <td>10.39386</td>\n",
       "      <td>-75.423848</td>\n",
       "      <td>-73.992062</td>\n",
       "      <td>-73.98184</td>\n",
       "      <td>-73.967148</td>\n",
       "      <td>40.783472</td>\n",
       "    </tr>\n",
       "    <tr>\n",
       "      <th>latitude_of_pickup</th>\n",
       "      <td>50000.0</td>\n",
       "      <td>NaN</td>\n",
       "      <td>NaN</td>\n",
       "      <td>NaN</td>\n",
       "      <td>39.933759</td>\n",
       "      <td>6.224857</td>\n",
       "      <td>-74.006893</td>\n",
       "      <td>40.73488</td>\n",
       "      <td>40.752678</td>\n",
       "      <td>40.76736</td>\n",
       "      <td>401.083332</td>\n",
       "    </tr>\n",
       "    <tr>\n",
       "      <th>longitude_of_dropoff</th>\n",
       "      <td>50000.0</td>\n",
       "      <td>NaN</td>\n",
       "      <td>NaN</td>\n",
       "      <td>NaN</td>\n",
       "      <td>-72.504616</td>\n",
       "      <td>10.40757</td>\n",
       "      <td>-84.654241</td>\n",
       "      <td>-73.991152</td>\n",
       "      <td>-73.980082</td>\n",
       "      <td>-73.963584</td>\n",
       "      <td>40.851027</td>\n",
       "    </tr>\n",
       "    <tr>\n",
       "      <th>latitude_of_dropoff</th>\n",
       "      <td>50000.0</td>\n",
       "      <td>NaN</td>\n",
       "      <td>NaN</td>\n",
       "      <td>NaN</td>\n",
       "      <td>39.926251</td>\n",
       "      <td>6.014737</td>\n",
       "      <td>-74.006377</td>\n",
       "      <td>40.734372</td>\n",
       "      <td>40.753372</td>\n",
       "      <td>40.768167</td>\n",
       "      <td>43.41519</td>\n",
       "    </tr>\n",
       "    <tr>\n",
       "      <th>no_of_passenger</th>\n",
       "      <td>50000.0</td>\n",
       "      <td>NaN</td>\n",
       "      <td>NaN</td>\n",
       "      <td>NaN</td>\n",
       "      <td>1.66784</td>\n",
       "      <td>1.289195</td>\n",
       "      <td>0.0</td>\n",
       "      <td>1.0</td>\n",
       "      <td>1.0</td>\n",
       "      <td>2.0</td>\n",
       "      <td>6.0</td>\n",
       "    </tr>\n",
       "  </tbody>\n",
       "</table>\n",
       "</div>"
      ],
      "text/plain": [
       "                        count unique                      top freq       mean  \\\n",
       "unique_id               50000   3597                  26:00.0  457        NaN   \n",
       "amount                50000.0    NaN                      NaN  NaN  11.364171   \n",
       "date_time_of_pickup     50000  49555  2011-09-03 01:30:00 UTC    3        NaN   \n",
       "longitude_of_pickup   50000.0    NaN                      NaN  NaN -72.509756   \n",
       "latitude_of_pickup    50000.0    NaN                      NaN  NaN  39.933759   \n",
       "longitude_of_dropoff  50000.0    NaN                      NaN  NaN -72.504616   \n",
       "latitude_of_dropoff   50000.0    NaN                      NaN  NaN  39.926251   \n",
       "no_of_passenger       50000.0    NaN                      NaN  NaN    1.66784   \n",
       "\n",
       "                           std        min        25%        50%        75%  \\\n",
       "unique_id                  NaN        NaN        NaN        NaN        NaN   \n",
       "amount                9.685557       -5.0        6.0        8.5       12.5   \n",
       "date_time_of_pickup        NaN        NaN        NaN        NaN        NaN   \n",
       "longitude_of_pickup   10.39386 -75.423848 -73.992062  -73.98184 -73.967148   \n",
       "latitude_of_pickup    6.224857 -74.006893   40.73488  40.752678   40.76736   \n",
       "longitude_of_dropoff  10.40757 -84.654241 -73.991152 -73.980082 -73.963584   \n",
       "latitude_of_dropoff   6.014737 -74.006377  40.734372  40.753372  40.768167   \n",
       "no_of_passenger       1.289195        0.0        1.0        1.0        2.0   \n",
       "\n",
       "                             max  \n",
       "unique_id                    NaN  \n",
       "amount                     200.0  \n",
       "date_time_of_pickup          NaN  \n",
       "longitude_of_pickup    40.783472  \n",
       "latitude_of_pickup    401.083332  \n",
       "longitude_of_dropoff   40.851027  \n",
       "latitude_of_dropoff     43.41519  \n",
       "no_of_passenger              6.0  "
      ]
     },
     "execution_count": 83,
     "metadata": {},
     "output_type": "execute_result"
    }
   ],
   "source": [
    "m1.describe(include= 'all').T"
   ]
  },
  {
   "cell_type": "code",
   "execution_count": 85,
   "id": "2c907b7e",
   "metadata": {},
   "outputs": [
    {
     "name": "stdout",
     "output_type": "stream",
     "text": [
      "<class 'pandas.core.frame.DataFrame'>\n",
      "RangeIndex: 50000 entries, 0 to 49999\n",
      "Data columns (total 8 columns):\n",
      " #   Column                Non-Null Count  Dtype  \n",
      "---  ------                --------------  -----  \n",
      " 0   unique_id             50000 non-null  object \n",
      " 1   amount                50000 non-null  float64\n",
      " 2   date_time_of_pickup   50000 non-null  object \n",
      " 3   longitude_of_pickup   50000 non-null  float64\n",
      " 4   latitude_of_pickup    50000 non-null  float64\n",
      " 5   longitude_of_dropoff  50000 non-null  float64\n",
      " 6   latitude_of_dropoff   50000 non-null  float64\n",
      " 7   no_of_passenger       50000 non-null  int64  \n",
      "dtypes: float64(5), int64(1), object(2)\n",
      "memory usage: 3.1+ MB\n"
     ]
    }
   ],
   "source": [
    "m1.info()"
   ]
  },
  {
   "cell_type": "code",
   "execution_count": 87,
   "id": "e2ff363f",
   "metadata": {},
   "outputs": [
    {
     "data": {
      "text/plain": [
       "unique_id                object\n",
       "amount                  float64\n",
       "date_time_of_pickup      object\n",
       "longitude_of_pickup     float64\n",
       "latitude_of_pickup      float64\n",
       "longitude_of_dropoff    float64\n",
       "latitude_of_dropoff     float64\n",
       "no_of_passenger           int64\n",
       "dtype: object"
      ]
     },
     "execution_count": 87,
     "metadata": {},
     "output_type": "execute_result"
    }
   ],
   "source": [
    "m1.dtypes"
   ]
  },
  {
   "cell_type": "markdown",
   "id": "7cb4bfb3",
   "metadata": {},
   "source": [
    "## 2) Data Visualiztion"
   ]
  },
  {
   "cell_type": "markdown",
   "id": "da19cb2f",
   "metadata": {},
   "source": [
    "### Univariate Analysis"
   ]
  },
  {
   "cell_type": "markdown",
   "id": "79b245cf",
   "metadata": {},
   "source": [
    "###### Number of passengers"
   ]
  },
  {
   "cell_type": "code",
   "execution_count": 88,
   "id": "a59dda99",
   "metadata": {},
   "outputs": [
    {
     "data": {
      "text/plain": [
       "<AxesSubplot:xlabel='no_of_passenger', ylabel='Count'>"
      ]
     },
     "execution_count": 88,
     "metadata": {},
     "output_type": "execute_result"
    },
    {
     "data": {
      "image/png": "[encoded data removed]",
      "text/plain": [
       "<Figure size 720x360 with 1 Axes>"
      ]
     },
     "metadata": {
      "needs_background": "light"
     },
     "output_type": "display_data"
    }
   ],
   "source": [
    "plt.figure(figsize = (10,5))\n",
    "\n",
    "sns.histplot(x='no_of_passenger', data=m1)"
   ]
  },
  {
   "cell_type": "code",
   "execution_count": 89,
   "id": "4e183acd",
   "metadata": {},
   "outputs": [
    {
     "data": {
      "text/plain": [
       "<AxesSubplot:xlabel='no_of_passenger'>"
      ]
     },
     "execution_count": 89,
     "metadata": {},
     "output_type": "execute_result"
    },
    {
     "data": {
      "image/png": "[encoded data removed]",
      "text/plain": [
       "<Figure size 720x360 with 1 Axes>"
      ]
     },
     "metadata": {
      "needs_background": "light"
     },
     "output_type": "display_data"
    }
   ],
   "source": [
    "plt.figure(figsize = (10,5))\n",
    "\n",
    "sns.boxplot( x=\"no_of_passenger\", data=m1)"
   ]
  },
  {
   "cell_type": "markdown",
   "id": "d266b30f",
   "metadata": {},
   "source": [
    "Mostly number of passengers travelling are either 1 or 2"
   ]
  },
  {
   "cell_type": "code",
   "execution_count": 90,
   "id": "c25a12a3",
   "metadata": {},
   "outputs": [
    {
     "data": {
      "text/plain": [
       "<AxesSubplot:xlabel='longitude_of_pickup'>"
      ]
     },
     "execution_count": 90,
     "metadata": {},
     "output_type": "execute_result"
    },
    {
     "data": {
      "image/png": "[encoded data removed]",
      "text/plain": [
       "<Figure size 720x360 with 1 Axes>"
      ]
     },
     "metadata": {
      "needs_background": "light"
     },
     "output_type": "display_data"
    }
   ],
   "source": [
    "plt.figure(figsize = (10,5))\n",
    "\n",
    "sns.boxplot( x=\"longitude_of_pickup\", data=m1)"
   ]
  },
  {
   "cell_type": "code",
   "execution_count": 92,
   "id": "98da607b",
   "metadata": {},
   "outputs": [
    {
     "data": {
      "text/plain": [
       "<AxesSubplot:xlabel='latitude_of_pickup'>"
      ]
     },
     "execution_count": 92,
     "metadata": {},
     "output_type": "execute_result"
    },
    {
     "data": {
      "image/png": "[encoded data removed]",
      "text/plain": [
       "<Figure size 720x360 with 1 Axes>"
      ]
     },
     "metadata": {
      "needs_background": "light"
     },
     "output_type": "display_data"
    }
   ],
   "source": [
    "plt.figure(figsize = (10,5))\n",
    "\n",
    "sns.boxplot( x=\"latitude_of_pickup\", data=m1)"
   ]
  },
  {
   "cell_type": "code",
   "execution_count": 91,
   "id": "ab2b57f5",
   "metadata": {},
   "outputs": [
    {
     "data": {
      "text/plain": [
       "<AxesSubplot:xlabel='longitude_of_dropoff'>"
      ]
     },
     "execution_count": 91,
     "metadata": {},
     "output_type": "execute_result"
    },
    {
     "data": {
      "image/png": "[encoded data removed]",
      "text/plain": [
       "<Figure size 720x360 with 1 Axes>"
      ]
     },
     "metadata": {
      "needs_background": "light"
     },
     "output_type": "display_data"
    }
   ],
   "source": [
    "plt.figure(figsize = (10,5))\n",
    "\n",
    "sns.boxplot( x=\"longitude_of_dropoff\", data=m1)"
   ]
  },
  {
   "cell_type": "code",
   "execution_count": 93,
   "id": "151f797e",
   "metadata": {},
   "outputs": [
    {
     "data": {
      "text/plain": [
       "<AxesSubplot:xlabel='latitude_of_dropoff'>"
      ]
     },
     "execution_count": 93,
     "metadata": {},
     "output_type": "execute_result"
    },
    {
     "data": {
      "image/png": "[encoded data removed]",
      "text/plain": [
       "<Figure size 720x360 with 1 Axes>"
      ]
     },
     "metadata": {
      "needs_background": "light"
     },
     "output_type": "display_data"
    }
   ],
   "source": [
    "plt.figure(figsize = (10,5))\n",
    "\n",
    "sns.boxplot( x=\"latitude_of_dropoff\", data=m1)"
   ]
  },
  {
   "cell_type": "markdown",
   "id": "36d5f835",
   "metadata": {},
   "source": [
    "### Multivariate Analysis"
   ]
  },
  {
   "cell_type": "code",
   "execution_count": 96,
   "id": "d138fac0",
   "metadata": {},
   "outputs": [
    {
     "data": {
      "text/plain": [
       "<AxesSubplot:>"
      ]
     },
     "execution_count": 96,
     "metadata": {},
     "output_type": "execute_result"
    },
    {
     "data": {
      "image/png": "[encoded data removed]",
      "text/plain": [
       "<Figure size 1080x576 with 2 Axes>"
      ]
     },
     "metadata": {
      "needs_background": "light"
     },
     "output_type": "display_data"
    }
   ],
   "source": [
    "plt.figure(figsize = (15, 8))\n",
    "corr = m1.corr()\n",
    "sns.heatmap(corr, annot=True,cmap=\"Accent\")"
   ]
  },
  {
   "cell_type": "markdown",
   "id": "be93ba22",
   "metadata": {},
   "source": [
    "### Data Cleaning"
   ]
  },
  {
   "cell_type": "markdown",
   "id": "3be7e664",
   "metadata": {},
   "source": [
    "##### 1) Missing Values"
   ]
  },
  {
   "cell_type": "code",
   "execution_count": 97,
   "id": "50b507e4",
   "metadata": {},
   "outputs": [
    {
     "data": {
      "text/plain": [
       "unique_id               0\n",
       "amount                  0\n",
       "date_time_of_pickup     0\n",
       "longitude_of_pickup     0\n",
       "latitude_of_pickup      0\n",
       "longitude_of_dropoff    0\n",
       "latitude_of_dropoff     0\n",
       "no_of_passenger         0\n",
       "dtype: int64"
      ]
     },
     "execution_count": 97,
     "metadata": {},
     "output_type": "execute_result"
    }
   ],
   "source": [
    "m1.isnull().sum()"
   ]
  },
  {
   "cell_type": "markdown",
   "id": "c0b855db",
   "metadata": {},
   "source": [
    "The dataset has no missing values."
   ]
  },
  {
   "cell_type": "markdown",
   "id": "471ed181",
   "metadata": {},
   "source": [
    "##### 2) Duplicate Values"
   ]
  },
  {
   "cell_type": "code",
   "execution_count": 98,
   "id": "8da7a81f",
   "metadata": {},
   "outputs": [
    {
     "data": {
      "text/plain": [
       "0"
      ]
     },
     "execution_count": 98,
     "metadata": {},
     "output_type": "execute_result"
    }
   ],
   "source": [
    "m1.duplicated().sum()"
   ]
  },
  {
   "cell_type": "markdown",
   "id": "0d6c2237",
   "metadata": {},
   "source": [
    "The dataset has no duplicated rows."
   ]
  },
  {
   "cell_type": "code",
   "execution_count": 100,
   "id": "62579f0e",
   "metadata": {},
   "outputs": [
    {
     "data": {
      "text/plain": [
       "(50000, 8)"
      ]
     },
     "execution_count": 100,
     "metadata": {},
     "output_type": "execute_result"
    }
   ],
   "source": [
    "lst = list(m1.index)\n",
    "lst.count(16396)\n",
    "m1.shape"
   ]
  },
  {
   "cell_type": "markdown",
   "id": "9da7ef31",
   "metadata": {},
   "source": [
    "#### Removing values with 0.00000 co-ordinates values"
   ]
  },
  {
   "cell_type": "code",
   "execution_count": 101,
   "id": "c5b62d03",
   "metadata": {},
   "outputs": [],
   "source": [
    "# df.reset_index(inplace = True, drop = True) -> use this line after dropping columns to reset index.\n",
    "# Code gives error otherwise.\n",
    "\n",
    "zero_coord = np.where(df['longitude_of_pickup'] == 0.000000)\n",
    "m1.drop(zero_coord[0], inplace= True)\n",
    "m1.reset_index(inplace = True, drop = True)"
   ]
  },
  {
   "cell_type": "code",
   "execution_count": 102,
   "id": "dbd2703f",
   "metadata": {},
   "outputs": [
    {
     "data": {
      "text/plain": [
       "(49045, 8)"
      ]
     },
     "execution_count": 102,
     "metadata": {},
     "output_type": "execute_result"
    }
   ],
   "source": [
    "m1.shape"
   ]
  },
  {
   "cell_type": "code",
   "execution_count": 104,
   "id": "3e277c77",
   "metadata": {},
   "outputs": [
    {
     "data": {
      "text/plain": [
       "(49045, 8)"
      ]
     },
     "execution_count": 104,
     "metadata": {},
     "output_type": "execute_result"
    }
   ],
   "source": [
    "m1.shape"
   ]
  },
  {
   "cell_type": "code",
   "execution_count": 106,
   "id": "608e1bd7",
   "metadata": {},
   "outputs": [
    {
     "data": {
      "text/plain": [
       "(49045, 8)"
      ]
     },
     "execution_count": 106,
     "metadata": {},
     "output_type": "execute_result"
    }
   ],
   "source": [
    "m1.shape"
   ]
  },
  {
   "cell_type": "code",
   "execution_count": 108,
   "id": "9e99d753",
   "metadata": {},
   "outputs": [],
   "source": [
    "\n",
    "zero_coord = np.where(df['latitude_of_dropoff'] == 0.000000)\n",
    "m1.drop(zero_coord[0], inplace= True)\n",
    "m1.reset_index(inplace = True, drop = True)"
   ]
  },
  {
   "cell_type": "code",
   "execution_count": 109,
   "id": "fde26793",
   "metadata": {},
   "outputs": [
    {
     "data": {
      "text/plain": [
       "(49045, 8)"
      ]
     },
     "execution_count": 109,
     "metadata": {},
     "output_type": "execute_result"
    }
   ],
   "source": [
    "m1.shape"
   ]
  },
  {
   "cell_type": "markdown",
   "id": "0e409eb1",
   "metadata": {},
   "source": [
    "#### Approximating latitudes and longitudes"
   ]
  },
  {
   "cell_type": "code",
   "execution_count": 110,
   "id": "4ff098c4",
   "metadata": {},
   "outputs": [],
   "source": [
    "import copy\n",
    "\n",
    "def approx_coordinates(m1, column):\n",
    "    m1 = copy.copy(m1)\n",
    "    m1 = m1.sort_values([column])\n",
    "    loop_counter = len(m1[column]) - 1\n",
    "    changed = 0\n",
    "    \n",
    "    for i in range(loop_counter):\n",
    "        diff = m1[column].loc[i+1] - m1[column].loc[i]\n",
    "        if(abs(diff) <= 0.000999):\n",
    "            m1[column].loc[i+1] = m1[column].loc[i]\n",
    "            changed = changed + 1\n",
    "    print(\"Total Changed:\", changed)\n",
    "    \n",
    "    return m1[column]"
   ]
  },
  {
   "cell_type": "code",
   "execution_count": 111,
   "id": "212d701c",
   "metadata": {},
   "outputs": [
    {
     "name": "stderr",
     "output_type": "stream",
     "text": [
      "C:\\Users\\HP\\AppData\\Local\\Temp\\ipykernel_13016\\1367403730.py:12: SettingWithCopyWarning: \n",
      "A value is trying to be set on a copy of a slice from a DataFrame\n",
      "\n",
      "See the caveats in the documentation: https://pandas.pydata.org/pandas-docs/stable/user_guide/indexing.html#returning-a-view-versus-a-copy\n",
      "  m1[column].loc[i+1] = m1[column].loc[i]\n"
     ]
    },
    {
     "name": "stdout",
     "output_type": "stream",
     "text": [
      "Total Changed: 1587\n"
     ]
    }
   ],
   "source": [
    "m1['longitude_of_pickup']= approx_coordinates(m1, 'longitude_of_pickup')"
   ]
  },
  {
   "cell_type": "code",
   "execution_count": 29,
   "id": "9ec32398",
   "metadata": {},
   "outputs": [],
   "source": [
    "#df['longitude_of_pickup'].value_counts().sort_values(ascending=False)"
   ]
  },
  {
   "cell_type": "code",
   "execution_count": 112,
   "id": "5b8cff70",
   "metadata": {},
   "outputs": [
    {
     "name": "stderr",
     "output_type": "stream",
     "text": [
      "C:\\Users\\HP\\AppData\\Local\\Temp\\ipykernel_13016\\1367403730.py:12: SettingWithCopyWarning: \n",
      "A value is trying to be set on a copy of a slice from a DataFrame\n",
      "\n",
      "See the caveats in the documentation: https://pandas.pydata.org/pandas-docs/stable/user_guide/indexing.html#returning-a-view-versus-a-copy\n",
      "  m1[column].loc[i+1] = m1[column].loc[i]\n"
     ]
    },
    {
     "name": "stdout",
     "output_type": "stream",
     "text": [
      "Total Changed: 1269\n"
     ]
    }
   ],
   "source": [
    "m1['latitude_of_pickup']= approx_coordinates(m1, 'latitude_of_pickup')"
   ]
  },
  {
   "cell_type": "code",
   "execution_count": 31,
   "id": "fe09ce25",
   "metadata": {},
   "outputs": [],
   "source": [
    "#df['latitude_of_pickup'].value_counts().sort_values(ascending=False)"
   ]
  },
  {
   "cell_type": "code",
   "execution_count": 32,
   "id": "92ffc797",
   "metadata": {},
   "outputs": [
    {
     "name": "stderr",
     "output_type": "stream",
     "text": [
      "C:\\Users\\HP\\AppData\\Local\\Temp\\ipykernel_13016\\1164478106.py:12: SettingWithCopyWarning: \n",
      "A value is trying to be set on a copy of a slice from a DataFrame\n",
      "\n",
      "See the caveats in the documentation: https://pandas.pydata.org/pandas-docs/stable/user_guide/indexing.html#returning-a-view-versus-a-copy\n",
      "  df[column].loc[i+1] = df[column].loc[i]\n"
     ]
    },
    {
     "name": "stdout",
     "output_type": "stream",
     "text": [
      "Total Changed: 1501\n"
     ]
    }
   ],
   "source": [
    "df['longitude_of_dropoff']= approx_coordinates(df, 'longitude_of_dropoff')"
   ]
  },
  {
   "cell_type": "code",
   "execution_count": 33,
   "id": "e41ed77c",
   "metadata": {},
   "outputs": [],
   "source": [
    "#df['longitude_of_dropoff'].value_counts().sort_values(ascending=False)"
   ]
  },
  {
   "cell_type": "code",
   "execution_count": 113,
   "id": "4244e65c",
   "metadata": {},
   "outputs": [
    {
     "name": "stderr",
     "output_type": "stream",
     "text": [
      "C:\\Users\\HP\\AppData\\Local\\Temp\\ipykernel_13016\\1367403730.py:12: SettingWithCopyWarning: \n",
      "A value is trying to be set on a copy of a slice from a DataFrame\n",
      "\n",
      "See the caveats in the documentation: https://pandas.pydata.org/pandas-docs/stable/user_guide/indexing.html#returning-a-view-versus-a-copy\n",
      "  m1[column].loc[i+1] = m1[column].loc[i]\n"
     ]
    },
    {
     "name": "stdout",
     "output_type": "stream",
     "text": [
      "Total Changed: 1139\n"
     ]
    }
   ],
   "source": [
    "\n",
    "\n",
    "\n",
    "\n",
    "m1['latitude_of_dropoff']= approx_coordinates(m1, 'latitude_of_dropoff')"
   ]
  },
  {
   "cell_type": "code",
   "execution_count": 35,
   "id": "bc7e1c89",
   "metadata": {},
   "outputs": [],
   "source": [
    "#df['latitude_of_dropoff'].value_counts().sort_values(ascending=False)"
   ]
  },
  {
   "cell_type": "markdown",
   "id": "498bfd0d",
   "metadata": {},
   "source": [
    "##### 3) Removing outliers"
   ]
  },
  {
   "cell_type": "code",
   "execution_count": 114,
   "id": "d019dd18",
   "metadata": {},
   "outputs": [],
   "source": [
    "import copy\n",
    "\n",
    "def remove_outliers(m1, column):\n",
    "    # IQR\n",
    "    Q1 = np.percentile(m1[column], 25,\n",
    "                    interpolation = 'midpoint')\n",
    "\n",
    "    Q3 = np.percentile(m1[column], 75,\n",
    "                    interpolation = 'midpoint')\n",
    "    IQR = Q3 - Q1\n",
    "\n",
    "    print(\"Old Shape: \", m1.shape)\n",
    "    \n",
    "    # Upper bound\n",
    "    upper = np.where(m1[column] >= (Q3+1.5*IQR))\n",
    "    m1.drop(upper[0], inplace= True)\n",
    "    m1.reset_index(inplace = True, drop = True)\n",
    "\n",
    "     # Lower bound\n",
    "    lower = np.where(m1[column] <= (Q1-1.5*IQR))\n",
    "    m1.drop(lower[0], inplace= True)\n",
    "    m1.reset_index(inplace = True, drop = True)\n",
    "\n",
    "    print(\"New Shape: \", m1.shape)\n",
    "    sns.boxplot(x=column, data=m1)\n",
    "    \n",
    "    \n",
    "    return m1"
   ]
  },
  {
   "cell_type": "markdown",
   "id": "a9403119",
   "metadata": {},
   "source": [
    "Removing outliers for ususual locations"
   ]
  },
  {
   "cell_type": "markdown",
   "id": "42a1a061",
   "metadata": {},
   "source": [
    "Outliers were not removed as the data is getting reduced significantly"
   ]
  },
  {
   "cell_type": "markdown",
   "id": "6f54c265",
   "metadata": {},
   "source": [
    "Removing less frequent passenger numbers"
   ]
  },
  {
   "cell_type": "code",
   "execution_count": 115,
   "id": "17bb0405",
   "metadata": {},
   "outputs": [],
   "source": [
    "m1.drop(np.where(m1['no_of_passenger'] == 4)[0], inplace= True)\n",
    "m1.reset_index(inplace = True, drop = True)"
   ]
  },
  {
   "cell_type": "code",
   "execution_count": 116,
   "id": "0b38b828",
   "metadata": {},
   "outputs": [],
   "source": [
    "m1.drop(np.where(m1['no_of_passenger'] == 6)[0], inplace= True)\n",
    "m1.reset_index(inplace = True, drop = True)"
   ]
  },
  {
   "cell_type": "code",
   "execution_count": 117,
   "id": "7731212b",
   "metadata": {},
   "outputs": [
    {
     "data": {
      "text/plain": [
       "(47071, 8)"
      ]
     },
     "execution_count": 117,
     "metadata": {},
     "output_type": "execute_result"
    }
   ],
   "source": [
    "m1.shape"
   ]
  },
  {
   "cell_type": "markdown",
   "id": "5ce2541f",
   "metadata": {},
   "source": [
    "##### 4) Invalid Data"
   ]
  },
  {
   "cell_type": "code",
   "execution_count": 118,
   "id": "1cab7bc5",
   "metadata": {},
   "outputs": [],
   "source": [
    "# There are some negative amount values\n",
    "\n",
    "negative_amounts = np.where(m1['amount'] <= 0)\n",
    "m1.drop(negative_amounts[0], inplace= True)\n",
    "m1.reset_index(inplace = True, drop = True)"
   ]
  },
  {
   "cell_type": "code",
   "execution_count": 119,
   "id": "d4d849eb",
   "metadata": {},
   "outputs": [
    {
     "data": {
      "text/plain": [
       "(47063, 8)"
      ]
     },
     "execution_count": 119,
     "metadata": {},
     "output_type": "execute_result"
    }
   ],
   "source": [
    "m1.shape"
   ]
  },
  {
   "cell_type": "markdown",
   "id": "21b40f22",
   "metadata": {},
   "source": [
    "### 3) Feature Engineering (Extracting time and day)"
   ]
  },
  {
   "cell_type": "code",
   "execution_count": 120,
   "id": "04ee1958",
   "metadata": {},
   "outputs": [
    {
     "data": {
      "text/plain": [
       "unique_id                object\n",
       "amount                  float64\n",
       "date_time_of_pickup      object\n",
       "longitude_of_pickup     float64\n",
       "latitude_of_pickup      float64\n",
       "longitude_of_dropoff    float64\n",
       "latitude_of_dropoff     float64\n",
       "no_of_passenger           int64\n",
       "dtype: object"
      ]
     },
     "execution_count": 120,
     "metadata": {},
     "output_type": "execute_result"
    }
   ],
   "source": [
    "m1.dtypes"
   ]
  },
  {
   "cell_type": "markdown",
   "id": "968e1869",
   "metadata": {},
   "source": [
    "date_time_of_pickup column is of object type"
   ]
  },
  {
   "cell_type": "code",
   "execution_count": 121,
   "id": "a1059168",
   "metadata": {},
   "outputs": [],
   "source": [
    "m1['date_time_of_pickup'] = pd.to_datetime(m1['date_time_of_pickup'])"
   ]
  },
  {
   "cell_type": "code",
   "execution_count": 122,
   "id": "7f36d477",
   "metadata": {},
   "outputs": [
    {
     "data": {
      "text/plain": [
       "unique_id                            object\n",
       "amount                              float64\n",
       "date_time_of_pickup     datetime64[ns, UTC]\n",
       "longitude_of_pickup                 float64\n",
       "latitude_of_pickup                  float64\n",
       "longitude_of_dropoff                float64\n",
       "latitude_of_dropoff                 float64\n",
       "no_of_passenger                       int64\n",
       "dtype: object"
      ]
     },
     "execution_count": 122,
     "metadata": {},
     "output_type": "execute_result"
    }
   ],
   "source": [
    "m1.dtypes"
   ]
  },
  {
   "cell_type": "code",
   "execution_count": 123,
   "id": "25b45268",
   "metadata": {},
   "outputs": [],
   "source": [
    "import datetime as dt\n",
    "\n",
    "year = m1['date_time_of_pickup'].dt.year"
   ]
  },
  {
   "cell_type": "code",
   "execution_count": 124,
   "id": "609ce4ea",
   "metadata": {},
   "outputs": [
    {
     "data": {
      "text/plain": [
       "2009    7430\n",
       "2010    7291\n",
       "2011    7405\n",
       "2012    7477\n",
       "2013    7262\n",
       "2014    6993\n",
       "2015    3205\n",
       "Name: date_time_of_pickup, dtype: int64"
      ]
     },
     "execution_count": 124,
     "metadata": {},
     "output_type": "execute_result"
    }
   ],
   "source": [
    "year.value_counts().sort_index()"
   ]
  },
  {
   "cell_type": "markdown",
   "id": "86cbb9b4",
   "metadata": {},
   "source": [
    "#### We have data for year starting from 2009 to 2015"
   ]
  },
  {
   "cell_type": "code",
   "execution_count": 125,
   "id": "a34151bc",
   "metadata": {},
   "outputs": [],
   "source": [
    "month = m1['date_time_of_pickup'].dt.month"
   ]
  },
  {
   "cell_type": "code",
   "execution_count": 126,
   "id": "179bfe8b",
   "metadata": {},
   "outputs": [
    {
     "data": {
      "text/plain": [
       "1     4290\n",
       "2     4075\n",
       "3     4361\n",
       "4     4274\n",
       "5     4337\n",
       "6     4236\n",
       "7     3436\n",
       "8     3345\n",
       "9     3589\n",
       "10    3825\n",
       "11    3524\n",
       "12    3771\n",
       "Name: date_time_of_pickup, dtype: int64"
      ]
     },
     "execution_count": 126,
     "metadata": {},
     "output_type": "execute_result"
    }
   ],
   "source": [
    "month.value_counts().sort_index()"
   ]
  },
  {
   "cell_type": "markdown",
   "id": "1ac44451",
   "metadata": {},
   "source": [
    "##### We add a new months column in dataset"
   ]
  },
  {
   "cell_type": "code",
   "execution_count": 127,
   "id": "1d808580",
   "metadata": {},
   "outputs": [
    {
     "data": {
      "text/html": [
       "<div>\n",
       "<style scoped>\n",
       "    .dataframe tbody tr th:only-of-type {\n",
       "        vertical-align: middle;\n",
       "    }\n",
       "\n",
       "    .dataframe tbody tr th {\n",
       "        vertical-align: top;\n",
       "    }\n",
       "\n",
       "    .dataframe thead th {\n",
       "        text-align: right;\n",
       "    }\n",
       "</style>\n",
       "<table border=\"1\" class=\"dataframe\">\n",
       "  <thead>\n",
       "    <tr style=\"text-align: right;\">\n",
       "      <th></th>\n",
       "      <th>unique_id</th>\n",
       "      <th>amount</th>\n",
       "      <th>date_time_of_pickup</th>\n",
       "      <th>longitude_of_pickup</th>\n",
       "      <th>latitude_of_pickup</th>\n",
       "      <th>longitude_of_dropoff</th>\n",
       "      <th>latitude_of_dropoff</th>\n",
       "      <th>no_of_passenger</th>\n",
       "      <th>month</th>\n",
       "    </tr>\n",
       "  </thead>\n",
       "  <tbody>\n",
       "    <tr>\n",
       "      <th>0</th>\n",
       "      <td>26:21.0</td>\n",
       "      <td>4.5</td>\n",
       "      <td>2009-06-15 17:26:21+00:00</td>\n",
       "      <td>-73.844311</td>\n",
       "      <td>40.721319</td>\n",
       "      <td>-73.841610</td>\n",
       "      <td>40.712278</td>\n",
       "      <td>1</td>\n",
       "      <td>6</td>\n",
       "    </tr>\n",
       "    <tr>\n",
       "      <th>1</th>\n",
       "      <td>52:16.0</td>\n",
       "      <td>16.9</td>\n",
       "      <td>2010-01-05 16:52:16+00:00</td>\n",
       "      <td>-74.016048</td>\n",
       "      <td>40.711303</td>\n",
       "      <td>-73.979268</td>\n",
       "      <td>40.782004</td>\n",
       "      <td>1</td>\n",
       "      <td>1</td>\n",
       "    </tr>\n",
       "    <tr>\n",
       "      <th>2</th>\n",
       "      <td>35:00.0</td>\n",
       "      <td>5.7</td>\n",
       "      <td>2011-08-18 00:35:00+00:00</td>\n",
       "      <td>-73.982738</td>\n",
       "      <td>40.761270</td>\n",
       "      <td>-73.991242</td>\n",
       "      <td>40.750562</td>\n",
       "      <td>2</td>\n",
       "      <td>8</td>\n",
       "    </tr>\n",
       "    <tr>\n",
       "      <th>3</th>\n",
       "      <td>30:42.0</td>\n",
       "      <td>7.7</td>\n",
       "      <td>2012-04-21 04:30:42+00:00</td>\n",
       "      <td>-73.987130</td>\n",
       "      <td>40.733143</td>\n",
       "      <td>-73.991567</td>\n",
       "      <td>40.758092</td>\n",
       "      <td>1</td>\n",
       "      <td>4</td>\n",
       "    </tr>\n",
       "    <tr>\n",
       "      <th>4</th>\n",
       "      <td>51:00.0</td>\n",
       "      <td>5.3</td>\n",
       "      <td>2010-03-09 07:51:00+00:00</td>\n",
       "      <td>-73.968095</td>\n",
       "      <td>40.768008</td>\n",
       "      <td>-73.956655</td>\n",
       "      <td>40.783762</td>\n",
       "      <td>1</td>\n",
       "      <td>3</td>\n",
       "    </tr>\n",
       "  </tbody>\n",
       "</table>\n",
       "</div>"
      ],
      "text/plain": [
       "  unique_id  amount       date_time_of_pickup  longitude_of_pickup  \\\n",
       "0   26:21.0     4.5 2009-06-15 17:26:21+00:00           -73.844311   \n",
       "1   52:16.0    16.9 2010-01-05 16:52:16+00:00           -74.016048   \n",
       "2   35:00.0     5.7 2011-08-18 00:35:00+00:00           -73.982738   \n",
       "3   30:42.0     7.7 2012-04-21 04:30:42+00:00           -73.987130   \n",
       "4   51:00.0     5.3 2010-03-09 07:51:00+00:00           -73.968095   \n",
       "\n",
       "   latitude_of_pickup  longitude_of_dropoff  latitude_of_dropoff  \\\n",
       "0           40.721319            -73.841610            40.712278   \n",
       "1           40.711303            -73.979268            40.782004   \n",
       "2           40.761270            -73.991242            40.750562   \n",
       "3           40.733143            -73.991567            40.758092   \n",
       "4           40.768008            -73.956655            40.783762   \n",
       "\n",
       "   no_of_passenger  month  \n",
       "0                1      6  \n",
       "1                1      1  \n",
       "2                2      8  \n",
       "3                1      4  \n",
       "4                1      3  "
      ]
     },
     "execution_count": 127,
     "metadata": {},
     "output_type": "execute_result"
    }
   ],
   "source": [
    "m1['month'] = month\n",
    "m1.head()"
   ]
  },
  {
   "cell_type": "code",
   "execution_count": 128,
   "id": "ee9d6ab5",
   "metadata": {},
   "outputs": [],
   "source": [
    "day = m1['date_time_of_pickup'].dt.day"
   ]
  },
  {
   "cell_type": "code",
   "execution_count": 129,
   "id": "e6216fff",
   "metadata": {},
   "outputs": [
    {
     "data": {
      "text/plain": [
       "1     1426\n",
       "2     1526\n",
       "3     1485\n",
       "4     1408\n",
       "5     1486\n",
       "6     1585\n",
       "7     1618\n",
       "8     1633\n",
       "9     1574\n",
       "10    1609\n",
       "11    1521\n",
       "12    1642\n",
       "13    1641\n",
       "14    1594\n",
       "15    1617\n",
       "16    1686\n",
       "17    1559\n",
       "18    1582\n",
       "19    1625\n",
       "20    1524\n",
       "21    1621\n",
       "22    1575\n",
       "23    1578\n",
       "24    1500\n",
       "25    1508\n",
       "26    1451\n",
       "27    1440\n",
       "28    1549\n",
       "29    1308\n",
       "30    1360\n",
       "31     832\n",
       "Name: date_time_of_pickup, dtype: int64"
      ]
     },
     "execution_count": 129,
     "metadata": {},
     "output_type": "execute_result"
    }
   ],
   "source": [
    "day.value_counts().sort_index()"
   ]
  },
  {
   "cell_type": "markdown",
   "id": "c67abd52",
   "metadata": {},
   "source": [
    "##### We add a new days column"
   ]
  },
  {
   "cell_type": "code",
   "execution_count": 130,
   "id": "8743b33a",
   "metadata": {},
   "outputs": [
    {
     "data": {
      "text/html": [
       "<div>\n",
       "<style scoped>\n",
       "    .dataframe tbody tr th:only-of-type {\n",
       "        vertical-align: middle;\n",
       "    }\n",
       "\n",
       "    .dataframe tbody tr th {\n",
       "        vertical-align: top;\n",
       "    }\n",
       "\n",
       "    .dataframe thead th {\n",
       "        text-align: right;\n",
       "    }\n",
       "</style>\n",
       "<table border=\"1\" class=\"dataframe\">\n",
       "  <thead>\n",
       "    <tr style=\"text-align: right;\">\n",
       "      <th></th>\n",
       "      <th>unique_id</th>\n",
       "      <th>amount</th>\n",
       "      <th>date_time_of_pickup</th>\n",
       "      <th>longitude_of_pickup</th>\n",
       "      <th>latitude_of_pickup</th>\n",
       "      <th>longitude_of_dropoff</th>\n",
       "      <th>latitude_of_dropoff</th>\n",
       "      <th>no_of_passenger</th>\n",
       "      <th>month</th>\n",
       "      <th>day</th>\n",
       "    </tr>\n",
       "  </thead>\n",
       "  <tbody>\n",
       "    <tr>\n",
       "      <th>0</th>\n",
       "      <td>26:21.0</td>\n",
       "      <td>4.5</td>\n",
       "      <td>2009-06-15 17:26:21+00:00</td>\n",
       "      <td>-73.844311</td>\n",
       "      <td>40.721319</td>\n",
       "      <td>-73.841610</td>\n",
       "      <td>40.712278</td>\n",
       "      <td>1</td>\n",
       "      <td>6</td>\n",
       "      <td>15</td>\n",
       "    </tr>\n",
       "    <tr>\n",
       "      <th>1</th>\n",
       "      <td>52:16.0</td>\n",
       "      <td>16.9</td>\n",
       "      <td>2010-01-05 16:52:16+00:00</td>\n",
       "      <td>-74.016048</td>\n",
       "      <td>40.711303</td>\n",
       "      <td>-73.979268</td>\n",
       "      <td>40.782004</td>\n",
       "      <td>1</td>\n",
       "      <td>1</td>\n",
       "      <td>5</td>\n",
       "    </tr>\n",
       "    <tr>\n",
       "      <th>2</th>\n",
       "      <td>35:00.0</td>\n",
       "      <td>5.7</td>\n",
       "      <td>2011-08-18 00:35:00+00:00</td>\n",
       "      <td>-73.982738</td>\n",
       "      <td>40.761270</td>\n",
       "      <td>-73.991242</td>\n",
       "      <td>40.750562</td>\n",
       "      <td>2</td>\n",
       "      <td>8</td>\n",
       "      <td>18</td>\n",
       "    </tr>\n",
       "    <tr>\n",
       "      <th>3</th>\n",
       "      <td>30:42.0</td>\n",
       "      <td>7.7</td>\n",
       "      <td>2012-04-21 04:30:42+00:00</td>\n",
       "      <td>-73.987130</td>\n",
       "      <td>40.733143</td>\n",
       "      <td>-73.991567</td>\n",
       "      <td>40.758092</td>\n",
       "      <td>1</td>\n",
       "      <td>4</td>\n",
       "      <td>21</td>\n",
       "    </tr>\n",
       "    <tr>\n",
       "      <th>4</th>\n",
       "      <td>51:00.0</td>\n",
       "      <td>5.3</td>\n",
       "      <td>2010-03-09 07:51:00+00:00</td>\n",
       "      <td>-73.968095</td>\n",
       "      <td>40.768008</td>\n",
       "      <td>-73.956655</td>\n",
       "      <td>40.783762</td>\n",
       "      <td>1</td>\n",
       "      <td>3</td>\n",
       "      <td>9</td>\n",
       "    </tr>\n",
       "  </tbody>\n",
       "</table>\n",
       "</div>"
      ],
      "text/plain": [
       "  unique_id  amount       date_time_of_pickup  longitude_of_pickup  \\\n",
       "0   26:21.0     4.5 2009-06-15 17:26:21+00:00           -73.844311   \n",
       "1   52:16.0    16.9 2010-01-05 16:52:16+00:00           -74.016048   \n",
       "2   35:00.0     5.7 2011-08-18 00:35:00+00:00           -73.982738   \n",
       "3   30:42.0     7.7 2012-04-21 04:30:42+00:00           -73.987130   \n",
       "4   51:00.0     5.3 2010-03-09 07:51:00+00:00           -73.968095   \n",
       "\n",
       "   latitude_of_pickup  longitude_of_dropoff  latitude_of_dropoff  \\\n",
       "0           40.721319            -73.841610            40.712278   \n",
       "1           40.711303            -73.979268            40.782004   \n",
       "2           40.761270            -73.991242            40.750562   \n",
       "3           40.733143            -73.991567            40.758092   \n",
       "4           40.768008            -73.956655            40.783762   \n",
       "\n",
       "   no_of_passenger  month  day  \n",
       "0                1      6   15  \n",
       "1                1      1    5  \n",
       "2                2      8   18  \n",
       "3                1      4   21  \n",
       "4                1      3    9  "
      ]
     },
     "execution_count": 130,
     "metadata": {},
     "output_type": "execute_result"
    }
   ],
   "source": [
    "m1['day'] = day\n",
    "m1.head()"
   ]
  },
  {
   "cell_type": "code",
   "execution_count": 131,
   "id": "358e08eb",
   "metadata": {},
   "outputs": [],
   "source": [
    "dayofweek = m1['date_time_of_pickup'].dt.dayofweek"
   ]
  },
  {
   "cell_type": "code",
   "execution_count": 132,
   "id": "d40a8988",
   "metadata": {},
   "outputs": [
    {
     "data": {
      "text/plain": [
       "0    6262\n",
       "1    6529\n",
       "2    6812\n",
       "3    7041\n",
       "4    7212\n",
       "5    7134\n",
       "6    6073\n",
       "Name: date_time_of_pickup, dtype: int64"
      ]
     },
     "execution_count": 132,
     "metadata": {},
     "output_type": "execute_result"
    }
   ],
   "source": [
    "dayofweek.value_counts().sort_index()"
   ]
  },
  {
   "cell_type": "markdown",
   "id": "17d2522d",
   "metadata": {},
   "source": [
    "We add day of the week column"
   ]
  },
  {
   "cell_type": "code",
   "execution_count": 133,
   "id": "ec327bfe",
   "metadata": {},
   "outputs": [
    {
     "data": {
      "text/html": [
       "<div>\n",
       "<style scoped>\n",
       "    .dataframe tbody tr th:only-of-type {\n",
       "        vertical-align: middle;\n",
       "    }\n",
       "\n",
       "    .dataframe tbody tr th {\n",
       "        vertical-align: top;\n",
       "    }\n",
       "\n",
       "    .dataframe thead th {\n",
       "        text-align: right;\n",
       "    }\n",
       "</style>\n",
       "<table border=\"1\" class=\"dataframe\">\n",
       "  <thead>\n",
       "    <tr style=\"text-align: right;\">\n",
       "      <th></th>\n",
       "      <th>unique_id</th>\n",
       "      <th>amount</th>\n",
       "      <th>date_time_of_pickup</th>\n",
       "      <th>longitude_of_pickup</th>\n",
       "      <th>latitude_of_pickup</th>\n",
       "      <th>longitude_of_dropoff</th>\n",
       "      <th>latitude_of_dropoff</th>\n",
       "      <th>no_of_passenger</th>\n",
       "      <th>month</th>\n",
       "      <th>day</th>\n",
       "      <th>dayofweek</th>\n",
       "    </tr>\n",
       "  </thead>\n",
       "  <tbody>\n",
       "    <tr>\n",
       "      <th>0</th>\n",
       "      <td>26:21.0</td>\n",
       "      <td>4.5</td>\n",
       "      <td>2009-06-15 17:26:21+00:00</td>\n",
       "      <td>-73.844311</td>\n",
       "      <td>40.721319</td>\n",
       "      <td>-73.841610</td>\n",
       "      <td>40.712278</td>\n",
       "      <td>1</td>\n",
       "      <td>6</td>\n",
       "      <td>15</td>\n",
       "      <td>0</td>\n",
       "    </tr>\n",
       "    <tr>\n",
       "      <th>1</th>\n",
       "      <td>52:16.0</td>\n",
       "      <td>16.9</td>\n",
       "      <td>2010-01-05 16:52:16+00:00</td>\n",
       "      <td>-74.016048</td>\n",
       "      <td>40.711303</td>\n",
       "      <td>-73.979268</td>\n",
       "      <td>40.782004</td>\n",
       "      <td>1</td>\n",
       "      <td>1</td>\n",
       "      <td>5</td>\n",
       "      <td>1</td>\n",
       "    </tr>\n",
       "    <tr>\n",
       "      <th>2</th>\n",
       "      <td>35:00.0</td>\n",
       "      <td>5.7</td>\n",
       "      <td>2011-08-18 00:35:00+00:00</td>\n",
       "      <td>-73.982738</td>\n",
       "      <td>40.761270</td>\n",
       "      <td>-73.991242</td>\n",
       "      <td>40.750562</td>\n",
       "      <td>2</td>\n",
       "      <td>8</td>\n",
       "      <td>18</td>\n",
       "      <td>3</td>\n",
       "    </tr>\n",
       "    <tr>\n",
       "      <th>3</th>\n",
       "      <td>30:42.0</td>\n",
       "      <td>7.7</td>\n",
       "      <td>2012-04-21 04:30:42+00:00</td>\n",
       "      <td>-73.987130</td>\n",
       "      <td>40.733143</td>\n",
       "      <td>-73.991567</td>\n",
       "      <td>40.758092</td>\n",
       "      <td>1</td>\n",
       "      <td>4</td>\n",
       "      <td>21</td>\n",
       "      <td>5</td>\n",
       "    </tr>\n",
       "    <tr>\n",
       "      <th>4</th>\n",
       "      <td>51:00.0</td>\n",
       "      <td>5.3</td>\n",
       "      <td>2010-03-09 07:51:00+00:00</td>\n",
       "      <td>-73.968095</td>\n",
       "      <td>40.768008</td>\n",
       "      <td>-73.956655</td>\n",
       "      <td>40.783762</td>\n",
       "      <td>1</td>\n",
       "      <td>3</td>\n",
       "      <td>9</td>\n",
       "      <td>1</td>\n",
       "    </tr>\n",
       "  </tbody>\n",
       "</table>\n",
       "</div>"
      ],
      "text/plain": [
       "  unique_id  amount       date_time_of_pickup  longitude_of_pickup  \\\n",
       "0   26:21.0     4.5 2009-06-15 17:26:21+00:00           -73.844311   \n",
       "1   52:16.0    16.9 2010-01-05 16:52:16+00:00           -74.016048   \n",
       "2   35:00.0     5.7 2011-08-18 00:35:00+00:00           -73.982738   \n",
       "3   30:42.0     7.7 2012-04-21 04:30:42+00:00           -73.987130   \n",
       "4   51:00.0     5.3 2010-03-09 07:51:00+00:00           -73.968095   \n",
       "\n",
       "   latitude_of_pickup  longitude_of_dropoff  latitude_of_dropoff  \\\n",
       "0           40.721319            -73.841610            40.712278   \n",
       "1           40.711303            -73.979268            40.782004   \n",
       "2           40.761270            -73.991242            40.750562   \n",
       "3           40.733143            -73.991567            40.758092   \n",
       "4           40.768008            -73.956655            40.783762   \n",
       "\n",
       "   no_of_passenger  month  day  dayofweek  \n",
       "0                1      6   15          0  \n",
       "1                1      1    5          1  \n",
       "2                2      8   18          3  \n",
       "3                1      4   21          5  \n",
       "4                1      3    9          1  "
      ]
     },
     "execution_count": 133,
     "metadata": {},
     "output_type": "execute_result"
    }
   ],
   "source": [
    "m1['dayofweek'] = dayofweek\n",
    "m1.head()"
   ]
  },
  {
   "cell_type": "code",
   "execution_count": 134,
   "id": "b176a758",
   "metadata": {},
   "outputs": [],
   "source": [
    "hour = m1['date_time_of_pickup'].dt.hour"
   ]
  },
  {
   "cell_type": "code",
   "execution_count": 135,
   "id": "c9b24005",
   "metadata": {},
   "outputs": [
    {
     "data": {
      "text/plain": [
       "0     1764\n",
       "1     1392\n",
       "2     1027\n",
       "3      785\n",
       "4      571\n",
       "5      476\n",
       "6      971\n",
       "7     1789\n",
       "8     2101\n",
       "9     2267\n",
       "10    2147\n",
       "11    2243\n",
       "12    2329\n",
       "13    2342\n",
       "14    2312\n",
       "15    2221\n",
       "16    1926\n",
       "17    2320\n",
       "18    2913\n",
       "19    2928\n",
       "20    2666\n",
       "21    2640\n",
       "22    2617\n",
       "23    2316\n",
       "Name: date_time_of_pickup, dtype: int64"
      ]
     },
     "execution_count": 135,
     "metadata": {},
     "output_type": "execute_result"
    }
   ],
   "source": [
    "hour.value_counts().sort_index()"
   ]
  },
  {
   "cell_type": "markdown",
   "id": "2844b708",
   "metadata": {},
   "source": [
    "##### We will add an hour column"
   ]
  },
  {
   "cell_type": "code",
   "execution_count": 136,
   "id": "53e04fbe",
   "metadata": {},
   "outputs": [
    {
     "data": {
      "text/html": [
       "<div>\n",
       "<style scoped>\n",
       "    .dataframe tbody tr th:only-of-type {\n",
       "        vertical-align: middle;\n",
       "    }\n",
       "\n",
       "    .dataframe tbody tr th {\n",
       "        vertical-align: top;\n",
       "    }\n",
       "\n",
       "    .dataframe thead th {\n",
       "        text-align: right;\n",
       "    }\n",
       "</style>\n",
       "<table border=\"1\" class=\"dataframe\">\n",
       "  <thead>\n",
       "    <tr style=\"text-align: right;\">\n",
       "      <th></th>\n",
       "      <th>unique_id</th>\n",
       "      <th>amount</th>\n",
       "      <th>date_time_of_pickup</th>\n",
       "      <th>longitude_of_pickup</th>\n",
       "      <th>latitude_of_pickup</th>\n",
       "      <th>longitude_of_dropoff</th>\n",
       "      <th>latitude_of_dropoff</th>\n",
       "      <th>no_of_passenger</th>\n",
       "      <th>month</th>\n",
       "      <th>day</th>\n",
       "      <th>dayofweek</th>\n",
       "      <th>hour</th>\n",
       "    </tr>\n",
       "  </thead>\n",
       "  <tbody>\n",
       "    <tr>\n",
       "      <th>0</th>\n",
       "      <td>26:21.0</td>\n",
       "      <td>4.5</td>\n",
       "      <td>2009-06-15 17:26:21+00:00</td>\n",
       "      <td>-73.844311</td>\n",
       "      <td>40.721319</td>\n",
       "      <td>-73.841610</td>\n",
       "      <td>40.712278</td>\n",
       "      <td>1</td>\n",
       "      <td>6</td>\n",
       "      <td>15</td>\n",
       "      <td>0</td>\n",
       "      <td>17</td>\n",
       "    </tr>\n",
       "    <tr>\n",
       "      <th>1</th>\n",
       "      <td>52:16.0</td>\n",
       "      <td>16.9</td>\n",
       "      <td>2010-01-05 16:52:16+00:00</td>\n",
       "      <td>-74.016048</td>\n",
       "      <td>40.711303</td>\n",
       "      <td>-73.979268</td>\n",
       "      <td>40.782004</td>\n",
       "      <td>1</td>\n",
       "      <td>1</td>\n",
       "      <td>5</td>\n",
       "      <td>1</td>\n",
       "      <td>16</td>\n",
       "    </tr>\n",
       "    <tr>\n",
       "      <th>2</th>\n",
       "      <td>35:00.0</td>\n",
       "      <td>5.7</td>\n",
       "      <td>2011-08-18 00:35:00+00:00</td>\n",
       "      <td>-73.982738</td>\n",
       "      <td>40.761270</td>\n",
       "      <td>-73.991242</td>\n",
       "      <td>40.750562</td>\n",
       "      <td>2</td>\n",
       "      <td>8</td>\n",
       "      <td>18</td>\n",
       "      <td>3</td>\n",
       "      <td>0</td>\n",
       "    </tr>\n",
       "    <tr>\n",
       "      <th>3</th>\n",
       "      <td>30:42.0</td>\n",
       "      <td>7.7</td>\n",
       "      <td>2012-04-21 04:30:42+00:00</td>\n",
       "      <td>-73.987130</td>\n",
       "      <td>40.733143</td>\n",
       "      <td>-73.991567</td>\n",
       "      <td>40.758092</td>\n",
       "      <td>1</td>\n",
       "      <td>4</td>\n",
       "      <td>21</td>\n",
       "      <td>5</td>\n",
       "      <td>4</td>\n",
       "    </tr>\n",
       "    <tr>\n",
       "      <th>4</th>\n",
       "      <td>51:00.0</td>\n",
       "      <td>5.3</td>\n",
       "      <td>2010-03-09 07:51:00+00:00</td>\n",
       "      <td>-73.968095</td>\n",
       "      <td>40.768008</td>\n",
       "      <td>-73.956655</td>\n",
       "      <td>40.783762</td>\n",
       "      <td>1</td>\n",
       "      <td>3</td>\n",
       "      <td>9</td>\n",
       "      <td>1</td>\n",
       "      <td>7</td>\n",
       "    </tr>\n",
       "  </tbody>\n",
       "</table>\n",
       "</div>"
      ],
      "text/plain": [
       "  unique_id  amount       date_time_of_pickup  longitude_of_pickup  \\\n",
       "0   26:21.0     4.5 2009-06-15 17:26:21+00:00           -73.844311   \n",
       "1   52:16.0    16.9 2010-01-05 16:52:16+00:00           -74.016048   \n",
       "2   35:00.0     5.7 2011-08-18 00:35:00+00:00           -73.982738   \n",
       "3   30:42.0     7.7 2012-04-21 04:30:42+00:00           -73.987130   \n",
       "4   51:00.0     5.3 2010-03-09 07:51:00+00:00           -73.968095   \n",
       "\n",
       "   latitude_of_pickup  longitude_of_dropoff  latitude_of_dropoff  \\\n",
       "0           40.721319            -73.841610            40.712278   \n",
       "1           40.711303            -73.979268            40.782004   \n",
       "2           40.761270            -73.991242            40.750562   \n",
       "3           40.733143            -73.991567            40.758092   \n",
       "4           40.768008            -73.956655            40.783762   \n",
       "\n",
       "   no_of_passenger  month  day  dayofweek  hour  \n",
       "0                1      6   15          0    17  \n",
       "1                1      1    5          1    16  \n",
       "2                2      8   18          3     0  \n",
       "3                1      4   21          5     4  \n",
       "4                1      3    9          1     7  "
      ]
     },
     "execution_count": 136,
     "metadata": {},
     "output_type": "execute_result"
    }
   ],
   "source": [
    "m1['hour'] = hour\n",
    "m1.head()"
   ]
  },
  {
   "cell_type": "markdown",
   "id": "1588d2f8",
   "metadata": {},
   "source": [
    "##### We drop unique_id column as it is not required."
   ]
  },
  {
   "cell_type": "code",
   "execution_count": 137,
   "id": "b797f0fa",
   "metadata": {},
   "outputs": [],
   "source": [
    "m1.drop(['unique_id', 'date_time_of_pickup'], inplace= True, axis= 1)\n",
    "m1.reset_index(inplace = True, drop = True)\n"
   ]
  },
  {
   "cell_type": "code",
   "execution_count": 138,
   "id": "2f327326",
   "metadata": {},
   "outputs": [
    {
     "data": {
      "text/html": [
       "<div>\n",
       "<style scoped>\n",
       "    .dataframe tbody tr th:only-of-type {\n",
       "        vertical-align: middle;\n",
       "    }\n",
       "\n",
       "    .dataframe tbody tr th {\n",
       "        vertical-align: top;\n",
       "    }\n",
       "\n",
       "    .dataframe thead th {\n",
       "        text-align: right;\n",
       "    }\n",
       "</style>\n",
       "<table border=\"1\" class=\"dataframe\">\n",
       "  <thead>\n",
       "    <tr style=\"text-align: right;\">\n",
       "      <th></th>\n",
       "      <th>amount</th>\n",
       "      <th>longitude_of_pickup</th>\n",
       "      <th>latitude_of_pickup</th>\n",
       "      <th>longitude_of_dropoff</th>\n",
       "      <th>latitude_of_dropoff</th>\n",
       "      <th>no_of_passenger</th>\n",
       "      <th>month</th>\n",
       "      <th>day</th>\n",
       "      <th>dayofweek</th>\n",
       "      <th>hour</th>\n",
       "    </tr>\n",
       "  </thead>\n",
       "  <tbody>\n",
       "    <tr>\n",
       "      <th>0</th>\n",
       "      <td>4.5</td>\n",
       "      <td>-73.844311</td>\n",
       "      <td>40.721319</td>\n",
       "      <td>-73.841610</td>\n",
       "      <td>40.712278</td>\n",
       "      <td>1</td>\n",
       "      <td>6</td>\n",
       "      <td>15</td>\n",
       "      <td>0</td>\n",
       "      <td>17</td>\n",
       "    </tr>\n",
       "    <tr>\n",
       "      <th>1</th>\n",
       "      <td>16.9</td>\n",
       "      <td>-74.016048</td>\n",
       "      <td>40.711303</td>\n",
       "      <td>-73.979268</td>\n",
       "      <td>40.782004</td>\n",
       "      <td>1</td>\n",
       "      <td>1</td>\n",
       "      <td>5</td>\n",
       "      <td>1</td>\n",
       "      <td>16</td>\n",
       "    </tr>\n",
       "    <tr>\n",
       "      <th>2</th>\n",
       "      <td>5.7</td>\n",
       "      <td>-73.982738</td>\n",
       "      <td>40.761270</td>\n",
       "      <td>-73.991242</td>\n",
       "      <td>40.750562</td>\n",
       "      <td>2</td>\n",
       "      <td>8</td>\n",
       "      <td>18</td>\n",
       "      <td>3</td>\n",
       "      <td>0</td>\n",
       "    </tr>\n",
       "    <tr>\n",
       "      <th>3</th>\n",
       "      <td>7.7</td>\n",
       "      <td>-73.987130</td>\n",
       "      <td>40.733143</td>\n",
       "      <td>-73.991567</td>\n",
       "      <td>40.758092</td>\n",
       "      <td>1</td>\n",
       "      <td>4</td>\n",
       "      <td>21</td>\n",
       "      <td>5</td>\n",
       "      <td>4</td>\n",
       "    </tr>\n",
       "    <tr>\n",
       "      <th>4</th>\n",
       "      <td>5.3</td>\n",
       "      <td>-73.968095</td>\n",
       "      <td>40.768008</td>\n",
       "      <td>-73.956655</td>\n",
       "      <td>40.783762</td>\n",
       "      <td>1</td>\n",
       "      <td>3</td>\n",
       "      <td>9</td>\n",
       "      <td>1</td>\n",
       "      <td>7</td>\n",
       "    </tr>\n",
       "  </tbody>\n",
       "</table>\n",
       "</div>"
      ],
      "text/plain": [
       "   amount  longitude_of_pickup  latitude_of_pickup  longitude_of_dropoff  \\\n",
       "0     4.5           -73.844311           40.721319            -73.841610   \n",
       "1    16.9           -74.016048           40.711303            -73.979268   \n",
       "2     5.7           -73.982738           40.761270            -73.991242   \n",
       "3     7.7           -73.987130           40.733143            -73.991567   \n",
       "4     5.3           -73.968095           40.768008            -73.956655   \n",
       "\n",
       "   latitude_of_dropoff  no_of_passenger  month  day  dayofweek  hour  \n",
       "0            40.712278                1      6   15          0    17  \n",
       "1            40.782004                1      1    5          1    16  \n",
       "2            40.750562                2      8   18          3     0  \n",
       "3            40.758092                1      4   21          5     4  \n",
       "4            40.783762                1      3    9          1     7  "
      ]
     },
     "execution_count": 138,
     "metadata": {},
     "output_type": "execute_result"
    }
   ],
   "source": [
    "m1.head()"
   ]
  },
  {
   "cell_type": "markdown",
   "id": "350c1d8b",
   "metadata": {},
   "source": [
    "### Extracting features and labels"
   ]
  },
  {
   "cell_type": "code",
   "execution_count": 139,
   "id": "7320b164",
   "metadata": {},
   "outputs": [],
   "source": [
    "X = m1.drop('amount', axis= 1)\n",
    "y = m1['amount']"
   ]
  },
  {
   "cell_type": "code",
   "execution_count": 140,
   "id": "a048c50c",
   "metadata": {},
   "outputs": [
    {
     "data": {
      "text/plain": [
       "longitude_of_pickup     float64\n",
       "latitude_of_pickup      float64\n",
       "longitude_of_dropoff    float64\n",
       "latitude_of_dropoff     float64\n",
       "no_of_passenger           int64\n",
       "month                     int64\n",
       "day                       int64\n",
       "dayofweek                 int64\n",
       "hour                      int64\n",
       "dtype: object"
      ]
     },
     "execution_count": 140,
     "metadata": {},
     "output_type": "execute_result"
    }
   ],
   "source": [
    "X.dtypes"
   ]
  },
  {
   "cell_type": "markdown",
   "id": "3414ec55",
   "metadata": {},
   "source": [
    "### Feature Scaling"
   ]
  },
  {
   "cell_type": "code",
   "execution_count": 142,
   "id": "08cb13c3",
   "metadata": {},
   "outputs": [],
   "source": [
    "from sklearn.preprocessing import StandardScaler \n",
    "\n",
    "st_x = StandardScaler()  \n",
    "X_transformed = st_x.fit_transform(X) "
   ]
  },
  {
   "cell_type": "code",
   "execution_count": 144,
   "id": "8a7913f9",
   "metadata": {},
   "outputs": [],
   "source": [
    "X_transformed = pd.DataFrame(X_transformed, columns = ['longitude_of_pickup', 'latitude_of_pickup',\n",
    "       'longitude_of_dropoff', 'latitude_of_dropoff', 'no_of_passenger','month','day',\n",
    "        'dayofweek', 'hour'])"
   ]
  },
  {
   "cell_type": "code",
   "execution_count": 145,
   "id": "d054fa55",
   "metadata": {},
   "outputs": [
    {
     "data": {
      "text/html": [
       "<div>\n",
       "<style scoped>\n",
       "    .dataframe tbody tr th:only-of-type {\n",
       "        vertical-align: middle;\n",
       "    }\n",
       "\n",
       "    .dataframe tbody tr th {\n",
       "        vertical-align: top;\n",
       "    }\n",
       "\n",
       "    .dataframe thead th {\n",
       "        text-align: right;\n",
       "    }\n",
       "</style>\n",
       "<table border=\"1\" class=\"dataframe\">\n",
       "  <thead>\n",
       "    <tr style=\"text-align: right;\">\n",
       "      <th></th>\n",
       "      <th>longitude_of_pickup</th>\n",
       "      <th>latitude_of_pickup</th>\n",
       "      <th>longitude_of_dropoff</th>\n",
       "      <th>latitude_of_dropoff</th>\n",
       "      <th>no_of_passenger</th>\n",
       "      <th>month</th>\n",
       "      <th>day</th>\n",
       "      <th>dayofweek</th>\n",
       "      <th>hour</th>\n",
       "    </tr>\n",
       "  </thead>\n",
       "  <tbody>\n",
       "    <tr>\n",
       "      <th>0</th>\n",
       "      <td>0.036265</td>\n",
       "      <td>0.002234</td>\n",
       "      <td>0.007426</td>\n",
       "      <td>0.014193</td>\n",
       "      <td>-0.481687</td>\n",
       "      <td>-0.078090</td>\n",
       "      <td>-0.076257</td>\n",
       "      <td>-1.546758</td>\n",
       "      <td>0.542668</td>\n",
       "    </tr>\n",
       "    <tr>\n",
       "      <th>1</th>\n",
       "      <td>-0.039282</td>\n",
       "      <td>-0.001446</td>\n",
       "      <td>-0.036858</td>\n",
       "      <td>0.042936</td>\n",
       "      <td>-0.481687</td>\n",
       "      <td>-1.522603</td>\n",
       "      <td>-1.232388</td>\n",
       "      <td>-1.034953</td>\n",
       "      <td>0.388724</td>\n",
       "    </tr>\n",
       "    <tr>\n",
       "      <th>2</th>\n",
       "      <td>-0.024629</td>\n",
       "      <td>0.016912</td>\n",
       "      <td>-0.040710</td>\n",
       "      <td>0.029974</td>\n",
       "      <td>0.427171</td>\n",
       "      <td>0.499716</td>\n",
       "      <td>0.270583</td>\n",
       "      <td>-0.011343</td>\n",
       "      <td>-2.074377</td>\n",
       "    </tr>\n",
       "    <tr>\n",
       "      <th>3</th>\n",
       "      <td>-0.026561</td>\n",
       "      <td>0.006578</td>\n",
       "      <td>-0.040815</td>\n",
       "      <td>0.033078</td>\n",
       "      <td>-0.481687</td>\n",
       "      <td>-0.655895</td>\n",
       "      <td>0.617422</td>\n",
       "      <td>1.012268</td>\n",
       "      <td>-1.458601</td>\n",
       "    </tr>\n",
       "    <tr>\n",
       "      <th>4</th>\n",
       "      <td>-0.018187</td>\n",
       "      <td>0.019388</td>\n",
       "      <td>-0.029584</td>\n",
       "      <td>0.043660</td>\n",
       "      <td>-0.481687</td>\n",
       "      <td>-0.944798</td>\n",
       "      <td>-0.769935</td>\n",
       "      <td>-1.034953</td>\n",
       "      <td>-0.996770</td>\n",
       "    </tr>\n",
       "  </tbody>\n",
       "</table>\n",
       "</div>"
      ],
      "text/plain": [
       "   longitude_of_pickup  latitude_of_pickup  longitude_of_dropoff  \\\n",
       "0             0.036265            0.002234              0.007426   \n",
       "1            -0.039282           -0.001446             -0.036858   \n",
       "2            -0.024629            0.016912             -0.040710   \n",
       "3            -0.026561            0.006578             -0.040815   \n",
       "4            -0.018187            0.019388             -0.029584   \n",
       "\n",
       "   latitude_of_dropoff  no_of_passenger     month       day  dayofweek  \\\n",
       "0             0.014193        -0.481687 -0.078090 -0.076257  -1.546758   \n",
       "1             0.042936        -0.481687 -1.522603 -1.232388  -1.034953   \n",
       "2             0.029974         0.427171  0.499716  0.270583  -0.011343   \n",
       "3             0.033078        -0.481687 -0.655895  0.617422   1.012268   \n",
       "4             0.043660        -0.481687 -0.944798 -0.769935  -1.034953   \n",
       "\n",
       "       hour  \n",
       "0  0.542668  \n",
       "1  0.388724  \n",
       "2 -2.074377  \n",
       "3 -1.458601  \n",
       "4 -0.996770  "
      ]
     },
     "execution_count": 145,
     "metadata": {},
     "output_type": "execute_result"
    }
   ],
   "source": [
    "X_transformed.head()"
   ]
  },
  {
   "cell_type": "code",
   "execution_count": 146,
   "id": "4f8c4215",
   "metadata": {},
   "outputs": [
    {
     "data": {
      "text/plain": [
       "Index(['amount', 'longitude_of_pickup', 'latitude_of_pickup',\n",
       "       'longitude_of_dropoff', 'latitude_of_dropoff', 'no_of_passenger',\n",
       "       'month', 'day', 'dayofweek', 'hour'],\n",
       "      dtype='object')"
      ]
     },
     "execution_count": 146,
     "metadata": {},
     "output_type": "execute_result"
    }
   ],
   "source": [
    "m1.columns"
   ]
  },
  {
   "cell_type": "code",
   "execution_count": 147,
   "id": "31e1e02a",
   "metadata": {},
   "outputs": [],
   "source": [
    "y_arr = np.array(y).reshape(-1,1)\n",
    "y_arr.shape\n",
    "y = st_x.fit_transform(y_arr) "
   ]
  },
  {
   "cell_type": "code",
   "execution_count": 148,
   "id": "b81fd619",
   "metadata": {},
   "outputs": [
    {
     "data": {
      "text/html": [
       "<div>\n",
       "<style scoped>\n",
       "    .dataframe tbody tr th:only-of-type {\n",
       "        vertical-align: middle;\n",
       "    }\n",
       "\n",
       "    .dataframe tbody tr th {\n",
       "        vertical-align: top;\n",
       "    }\n",
       "\n",
       "    .dataframe thead th {\n",
       "        text-align: right;\n",
       "    }\n",
       "</style>\n",
       "<table border=\"1\" class=\"dataframe\">\n",
       "  <thead>\n",
       "    <tr style=\"text-align: right;\">\n",
       "      <th></th>\n",
       "      <th>amount</th>\n",
       "    </tr>\n",
       "  </thead>\n",
       "  <tbody>\n",
       "    <tr>\n",
       "      <th>0</th>\n",
       "      <td>-0.709578</td>\n",
       "    </tr>\n",
       "    <tr>\n",
       "      <th>1</th>\n",
       "      <td>0.577108</td>\n",
       "    </tr>\n",
       "    <tr>\n",
       "      <th>2</th>\n",
       "      <td>-0.585060</td>\n",
       "    </tr>\n",
       "    <tr>\n",
       "      <th>3</th>\n",
       "      <td>-0.377530</td>\n",
       "    </tr>\n",
       "    <tr>\n",
       "      <th>4</th>\n",
       "      <td>-0.626566</td>\n",
       "    </tr>\n",
       "  </tbody>\n",
       "</table>\n",
       "</div>"
      ],
      "text/plain": [
       "     amount\n",
       "0 -0.709578\n",
       "1  0.577108\n",
       "2 -0.585060\n",
       "3 -0.377530\n",
       "4 -0.626566"
      ]
     },
     "execution_count": 148,
     "metadata": {},
     "output_type": "execute_result"
    }
   ],
   "source": [
    "y_transformed = pd.DataFrame(y, columns= ['amount'])\n",
    "y_transformed.head()"
   ]
  },
  {
   "cell_type": "markdown",
   "id": "368ed9db",
   "metadata": {},
   "source": [
    "### Getting training and testing data"
   ]
  },
  {
   "cell_type": "code",
   "execution_count": 149,
   "id": "4f8cce26",
   "metadata": {},
   "outputs": [],
   "source": [
    "# Value of random state\n",
    "\n",
    "rdst = 42"
   ]
  },
  {
   "cell_type": "code",
   "execution_count": 150,
   "id": "367c00fd",
   "metadata": {},
   "outputs": [],
   "source": [
    "# Normal Data\n",
    "\n",
    "#xtrain, xtest, ytrain, ytest = train_test_split(X, y, test_size= 0.3, random_state= rdst)"
   ]
  },
  {
   "cell_type": "code",
   "execution_count": 151,
   "id": "1961ea18",
   "metadata": {},
   "outputs": [],
   "source": [
    "# Scaled Data\n",
    "\n",
    "xtrain, xtest, ytrain, ytest = train_test_split(X_transformed, y_transformed, test_size= 0.2, random_state= rdst)"
   ]
  },
  {
   "cell_type": "markdown",
   "id": "34c55e52",
   "metadata": {},
   "source": [
    "### Model Fitting"
   ]
  },
  {
   "cell_type": "markdown",
   "id": "000e409f",
   "metadata": {},
   "source": [
    "##### Here we will use Regression Model's because the target variable is numerical."
   ]
  },
  {
   "cell_type": "markdown",
   "id": "e16aee2a",
   "metadata": {},
   "source": [
    "#### 1) Decision Tree Regressor"
   ]
  },
  {
   "cell_type": "code",
   "execution_count": 152,
   "id": "48820043",
   "metadata": {},
   "outputs": [
    {
     "data": {
      "text/plain": [
       "DecisionTreeRegressor(max_depth=6, max_features='sqrt', random_state=42)"
      ]
     },
     "execution_count": 152,
     "metadata": {},
     "output_type": "execute_result"
    }
   ],
   "source": [
    "from sklearn.tree import DecisionTreeRegressor\n",
    "\n",
    "model1 = DecisionTreeRegressor(max_depth=6 , max_features='sqrt', random_state= rdst)\n",
    "model1.fit(xtrain, ytrain)"
   ]
  },
  {
   "cell_type": "code",
   "execution_count": 153,
   "id": "c75b280c",
   "metadata": {},
   "outputs": [
    {
     "data": {
      "text/plain": [
       "0.5325859757218209"
      ]
     },
     "execution_count": 153,
     "metadata": {},
     "output_type": "execute_result"
    }
   ],
   "source": [
    "sc1tr = model1.score(xtrain, ytrain)\n",
    "sc1tr "
   ]
  },
  {
   "cell_type": "code",
   "execution_count": 154,
   "id": "14c4de55",
   "metadata": {},
   "outputs": [
    {
     "data": {
      "text/plain": [
       "0.5482692836687697"
      ]
     },
     "execution_count": 154,
     "metadata": {},
     "output_type": "execute_result"
    }
   ],
   "source": [
    "sc1ts = model1.score(xtest, ytest)\n",
    "sc1ts"
   ]
  },
  {
   "cell_type": "code",
   "execution_count": 155,
   "id": "adf7a6ea",
   "metadata": {},
   "outputs": [],
   "source": [
    "#adding values for performance report\n",
    "count = count + 1"
   ]
  },
  {
   "cell_type": "markdown",
   "id": "09d55fd7",
   "metadata": {},
   "source": [
    "#### 2) SVM"
   ]
  },
  {
   "cell_type": "raw",
   "id": "da8c1bc8",
   "metadata": {},
   "source": [
    "from sklearn.svm import SVR\n",
    "\n",
    "model2 = SVR()\n",
    "model2.fit(xtrain, ytrain)"
   ]
  },
  {
   "cell_type": "raw",
   "id": "8b304fe5",
   "metadata": {},
   "source": [
    "sc2tr = model2.score(xtrain, ytrain)\n",
    "sc2tr"
   ]
  },
  {
   "cell_type": "raw",
   "id": "195b3cc0",
   "metadata": {},
   "source": [
    "sc2ts =model2.score(xtest, ytest)\n",
    "sc2ts"
   ]
  },
  {
   "cell_type": "code",
   "execution_count": 156,
   "id": "45991e8b",
   "metadata": {},
   "outputs": [],
   "source": [
    "count = count + 1"
   ]
  },
  {
   "cell_type": "markdown",
   "id": "0075d913",
   "metadata": {},
   "source": [
    "#### 3) SGD"
   ]
  },
  {
   "cell_type": "code",
   "execution_count": 157,
   "id": "68bb6109",
   "metadata": {},
   "outputs": [
    {
     "name": "stderr",
     "output_type": "stream",
     "text": [
      "C:\\Anaconda3\\lib\\site-packages\\sklearn\\utils\\validation.py:993: DataConversionWarning: A column-vector y was passed when a 1d array was expected. Please change the shape of y to (n_samples, ), for example using ravel().\n",
      "  y = column_or_1d(y, warn=True)\n"
     ]
    },
    {
     "data": {
      "text/plain": [
       "SGDRegressor(random_state=42)"
      ]
     },
     "execution_count": 157,
     "metadata": {},
     "output_type": "execute_result"
    }
   ],
   "source": [
    "from sklearn.linear_model import SGDRegressor\n",
    "\n",
    "model3 = SGDRegressor(random_state= rdst)\n",
    "model3.fit(xtrain, ytrain)"
   ]
  },
  {
   "cell_type": "code",
   "execution_count": 158,
   "id": "a7f65d11",
   "metadata": {},
   "outputs": [
    {
     "data": {
      "text/plain": [
       "-1.0203330155278151e+21"
      ]
     },
     "execution_count": 158,
     "metadata": {},
     "output_type": "execute_result"
    }
   ],
   "source": [
    "sc3tr = model3.score(xtrain, ytrain)\n",
    "sc3tr"
   ]
  },
  {
   "cell_type": "code",
   "execution_count": 159,
   "id": "52d1c4ff",
   "metadata": {},
   "outputs": [
    {
     "data": {
      "text/plain": [
       "-1.5295567858680444e+20"
      ]
     },
     "execution_count": 159,
     "metadata": {},
     "output_type": "execute_result"
    }
   ],
   "source": [
    "sc3ts = model3.score(xtest, ytest)\n",
    "sc3ts"
   ]
  },
  {
   "cell_type": "code",
   "execution_count": 160,
   "id": "3db54906",
   "metadata": {},
   "outputs": [],
   "source": [
    "#adding values for performance report\n",
    "count = count + 1"
   ]
  },
  {
   "cell_type": "markdown",
   "id": "a4d4d7ff",
   "metadata": {},
   "source": [
    "#### 4) Bagging Regressor"
   ]
  },
  {
   "cell_type": "code",
   "execution_count": 161,
   "id": "f9269f95",
   "metadata": {},
   "outputs": [
    {
     "name": "stderr",
     "output_type": "stream",
     "text": [
      "C:\\Anaconda3\\lib\\site-packages\\sklearn\\ensemble\\_bagging.py:429: DataConversionWarning: A column-vector y was passed when a 1d array was expected. Please change the shape of y to (n_samples, ), for example using ravel().\n",
      "  return column_or_1d(y, warn=True)\n"
     ]
    },
    {
     "data": {
      "text/plain": [
       "BaggingRegressor(base_estimator=DecisionTreeRegressor(max_depth=6,\n",
       "                                                      max_features='sqrt',\n",
       "                                                      random_state=42),\n",
       "                 random_state=42)"
      ]
     },
     "execution_count": 161,
     "metadata": {},
     "output_type": "execute_result"
    }
   ],
   "source": [
    "from sklearn.ensemble import BaggingRegressor\n",
    "\n",
    "model4 = BaggingRegressor(base_estimator= model1,random_state= rdst)\n",
    "model4.fit(xtrain, ytrain)"
   ]
  },
  {
   "cell_type": "code",
   "execution_count": 162,
   "id": "be084092",
   "metadata": {},
   "outputs": [
    {
     "data": {
      "text/plain": [
       "0.6400153962657928"
      ]
     },
     "execution_count": 162,
     "metadata": {},
     "output_type": "execute_result"
    }
   ],
   "source": [
    "sc4tr = model4.score(xtrain, ytrain)\n",
    "sc4tr"
   ]
  },
  {
   "cell_type": "code",
   "execution_count": 163,
   "id": "8b609601",
   "metadata": {},
   "outputs": [
    {
     "data": {
      "text/plain": [
       "0.647544718174234"
      ]
     },
     "execution_count": 163,
     "metadata": {},
     "output_type": "execute_result"
    }
   ],
   "source": [
    "sc4ts = model4.score(xtest, ytest)\n",
    "sc4ts"
   ]
  },
  {
   "cell_type": "code",
   "execution_count": 164,
   "id": "174776ca",
   "metadata": {},
   "outputs": [],
   "source": [
    "#adding values for performance report\n",
    "count = count + 1"
   ]
  },
  {
   "cell_type": "markdown",
   "id": "e5b0a4ef",
   "metadata": {},
   "source": [
    "#### 5) AdaBoostRegressor"
   ]
  },
  {
   "cell_type": "code",
   "execution_count": 165,
   "id": "093bc20d",
   "metadata": {},
   "outputs": [
    {
     "name": "stderr",
     "output_type": "stream",
     "text": [
      "C:\\Anaconda3\\lib\\site-packages\\sklearn\\utils\\validation.py:993: DataConversionWarning: A column-vector y was passed when a 1d array was expected. Please change the shape of y to (n_samples, ), for example using ravel().\n",
      "  y = column_or_1d(y, warn=True)\n"
     ]
    },
    {
     "data": {
      "text/plain": [
       "AdaBoostRegressor(random_state=42)"
      ]
     },
     "execution_count": 165,
     "metadata": {},
     "output_type": "execute_result"
    }
   ],
   "source": [
    "from sklearn.ensemble import AdaBoostRegressor\n",
    "\n",
    "model5 = AdaBoostRegressor(random_state= rdst)\n",
    "model5.fit(xtrain, ytrain)"
   ]
  },
  {
   "cell_type": "code",
   "execution_count": 166,
   "id": "628622ed",
   "metadata": {},
   "outputs": [
    {
     "data": {
      "text/plain": [
       "-1.7632186666280876"
      ]
     },
     "execution_count": 166,
     "metadata": {},
     "output_type": "execute_result"
    }
   ],
   "source": [
    "sc5tr = model5.score(xtrain, ytrain)\n",
    "sc5tr"
   ]
  },
  {
   "cell_type": "code",
   "execution_count": 167,
   "id": "6453bdb3",
   "metadata": {},
   "outputs": [
    {
     "data": {
      "text/plain": [
       "-1.918092364431868"
      ]
     },
     "execution_count": 167,
     "metadata": {},
     "output_type": "execute_result"
    }
   ],
   "source": [
    "sc5ts = model5.score(xtest, ytest)\n",
    "sc5ts"
   ]
  },
  {
   "cell_type": "code",
   "execution_count": 168,
   "id": "3abbdeb0",
   "metadata": {},
   "outputs": [],
   "source": [
    "#adding values for performance report\n",
    "count = count + 1"
   ]
  },
  {
   "cell_type": "markdown",
   "id": "4d941373",
   "metadata": {},
   "source": [
    "#### 6) GradientBoostingRegressor"
   ]
  },
  {
   "cell_type": "code",
   "execution_count": 169,
   "id": "0765cfff",
   "metadata": {},
   "outputs": [
    {
     "name": "stderr",
     "output_type": "stream",
     "text": [
      "C:\\Anaconda3\\lib\\site-packages\\sklearn\\ensemble\\_gb.py:494: DataConversionWarning: A column-vector y was passed when a 1d array was expected. Please change the shape of y to (n_samples, ), for example using ravel().\n",
      "  y = column_or_1d(y, warn=True)\n"
     ]
    },
    {
     "data": {
      "text/plain": [
       "GradientBoostingRegressor(random_state=42)"
      ]
     },
     "execution_count": 169,
     "metadata": {},
     "output_type": "execute_result"
    }
   ],
   "source": [
    "from sklearn.ensemble import GradientBoostingRegressor\n",
    "\n",
    "model6 = GradientBoostingRegressor(random_state= rdst)\n",
    "model6.fit(xtrain, ytrain)"
   ]
  },
  {
   "cell_type": "code",
   "execution_count": 170,
   "id": "8a332c27",
   "metadata": {},
   "outputs": [
    {
     "data": {
      "text/plain": [
       "0.768693641740474"
      ]
     },
     "execution_count": 170,
     "metadata": {},
     "output_type": "execute_result"
    }
   ],
   "source": [
    "sc6tr = model6.score(xtrain, ytrain)\n",
    "sc6tr"
   ]
  },
  {
   "cell_type": "code",
   "execution_count": 171,
   "id": "f2189b83",
   "metadata": {},
   "outputs": [
    {
     "data": {
      "text/plain": [
       "0.7676241519883834"
      ]
     },
     "execution_count": 171,
     "metadata": {},
     "output_type": "execute_result"
    }
   ],
   "source": [
    "sc6ts = model6.score(xtest, ytest)\n",
    "sc6ts"
   ]
  },
  {
   "cell_type": "code",
   "execution_count": 172,
   "id": "0713eff0",
   "metadata": {},
   "outputs": [],
   "source": [
    "#adding values for performance report\n",
    "count = count + 1"
   ]
  },
  {
   "cell_type": "markdown",
   "id": "57ecbc82",
   "metadata": {},
   "source": [
    "#### 7) RandomForestRegressor"
   ]
  },
  {
   "cell_type": "code",
   "execution_count": 173,
   "id": "0541f6a4",
   "metadata": {},
   "outputs": [
    {
     "name": "stderr",
     "output_type": "stream",
     "text": [
      "C:\\Users\\HP\\AppData\\Local\\Temp\\ipykernel_13016\\3103751781.py:4: DataConversionWarning: A column-vector y was passed when a 1d array was expected. Please change the shape of y to (n_samples,), for example using ravel().\n",
      "  model7.fit(xtrain, ytrain)\n"
     ]
    },
    {
     "data": {
      "text/plain": [
       "RandomForestRegressor(min_samples_split=8, n_jobs=2, random_state=42)"
      ]
     },
     "execution_count": 173,
     "metadata": {},
     "output_type": "execute_result"
    }
   ],
   "source": [
    "from sklearn.ensemble import RandomForestRegressor\n",
    "\n",
    "model7 = RandomForestRegressor(n_jobs= 2, random_state= rdst, min_samples_split= 8, min_samples_leaf= 1)\n",
    "model7.fit(xtrain, ytrain)"
   ]
  },
  {
   "cell_type": "code",
   "execution_count": 174,
   "id": "c91b4e5b",
   "metadata": {},
   "outputs": [
    {
     "data": {
      "text/plain": [
       "0.9325581664096169"
      ]
     },
     "execution_count": 174,
     "metadata": {},
     "output_type": "execute_result"
    }
   ],
   "source": [
    "sc7tr = model7.score(xtrain, ytrain)\n",
    "sc7tr"
   ]
  },
  {
   "cell_type": "code",
   "execution_count": 175,
   "id": "81734651",
   "metadata": {},
   "outputs": [
    {
     "data": {
      "text/plain": [
       "0.806855569524409"
      ]
     },
     "execution_count": 175,
     "metadata": {},
     "output_type": "execute_result"
    }
   ],
   "source": [
    "sc7ts = model7.score(xtest, ytest)\n",
    "sc7ts"
   ]
  },
  {
   "cell_type": "code",
   "execution_count": 176,
   "id": "a78f1a57",
   "metadata": {},
   "outputs": [],
   "source": [
    "#adding values for performance report\n",
    "count = count + 1"
   ]
  },
  {
   "cell_type": "code",
   "execution_count": 177,
   "id": "03323a73",
   "metadata": {},
   "outputs": [],
   "source": [
    "y_preds = model7"
   ]
  },
  {
   "cell_type": "raw",
   "id": "ac59830e",
   "metadata": {},
   "source": [
    "from sklearn.model_selection import RandomizedSearchCV\n",
    "\n",
    "grid = {\"n_estimators\": [10, 100, 200, 500, 1000, 1200],\n",
    "       \"max_depth\": [None, 5, 10, 15, 20, 25, 30, 35, 40, 45, 50, 55],\n",
    "       \"max_features\": [\"auto\", \"sqrt\", \"log2\"],\n",
    "        \"criterion\": ['squared_error', 'friedman_mse', 'poisson', 'absolute_error'],\n",
    "        \"min_samples_split\": [2,3,4,5,6,7,8,9,10],\n",
    "       \"min_samples_leaf\": [1,2,4],\n",
    "       \"min_impurity_decrease\":[0,0, 0.05, 0.1],\n",
    "       \"bootstrap\": [True, False]}\n",
    "\n",
    "rs_clf = RandomizedSearchCV(estimator= model7,\n",
    "                           param_distributions=grid,\n",
    "                           n_iter=10,\n",
    "                           cv=5,\n",
    "                           verbose=2)\n",
    "rs_clf.fit(xtrain, ytrain)"
   ]
  },
  {
   "cell_type": "raw",
   "id": "510fd8cd",
   "metadata": {},
   "source": [
    "from sklearn.model_selection import cross_val_score\n",
    "\n",
    "scores=cross_val_score(model7, X, y, cv=3, scoring='neg_mean_squared_error')"
   ]
  },
  {
   "cell_type": "markdown",
   "id": "c603edcc",
   "metadata": {},
   "source": [
    "#### 8) Simple Linear Regression"
   ]
  },
  {
   "cell_type": "code",
   "execution_count": 178,
   "id": "3781bff2",
   "metadata": {},
   "outputs": [
    {
     "data": {
      "text/plain": [
       "LinearRegression()"
      ]
     },
     "execution_count": 178,
     "metadata": {},
     "output_type": "execute_result"
    }
   ],
   "source": [
    "from sklearn.linear_model import LinearRegression\n",
    "\n",
    "model8 = LinearRegression()\n",
    "model8.fit(xtrain, ytrain)"
   ]
  },
  {
   "cell_type": "code",
   "execution_count": 179,
   "id": "a315d4c8",
   "metadata": {},
   "outputs": [
    {
     "data": {
      "text/plain": [
       "0.001774402649542428"
      ]
     },
     "execution_count": 179,
     "metadata": {},
     "output_type": "execute_result"
    }
   ],
   "source": [
    "sc8tr = model8.score(xtrain, ytrain)\n",
    "sc8tr"
   ]
  },
  {
   "cell_type": "code",
   "execution_count": 180,
   "id": "7113278a",
   "metadata": {},
   "outputs": [
    {
     "data": {
      "text/plain": [
       "0.0008748405338205867"
      ]
     },
     "execution_count": 180,
     "metadata": {},
     "output_type": "execute_result"
    }
   ],
   "source": [
    "sc8ts = model8.score(xtest, ytest)\n",
    "sc8ts"
   ]
  },
  {
   "cell_type": "code",
   "execution_count": 181,
   "id": "a2ad8b01",
   "metadata": {},
   "outputs": [],
   "source": [
    "#adding values for performance report\n",
    "count = count + 1"
   ]
  },
  {
   "cell_type": "markdown",
   "id": "7d097eec",
   "metadata": {},
   "source": [
    "#### 9) GausianRegressor"
   ]
  },
  {
   "cell_type": "raw",
   "id": "dfa04b51",
   "metadata": {},
   "source": [
    "from sklearn.gaussian_process import GaussianProcessRegressor\n",
    "from sklearn.gaussian_process.kernels import (RBF, Matern, RationalQuadratic,ExpSineSquared, DotProduct,ConstantKernel)\n",
    "                                              \n",
    "# Determination of the kernel used and the value lenght_scale at which the optimization process starts\n",
    "kernel = 1.0 * RBF(length_scale=1.0, length_scale_bounds=(1e-2, 1e3))\n",
    "\n",
    "# Application of the regressor (alpha makes a statement about a possible noise of the training data)\n",
    "model9 = GaussianProcessRegressor(kernel=kernel, alpha=0.1)\n",
    "model9.fit(xtrain, ytrain)"
   ]
  },
  {
   "cell_type": "raw",
   "id": "aaebd4bb",
   "metadata": {},
   "source": [
    "sc9tr = model8.score(xtrain, ytrain)\n",
    "sc9tr"
   ]
  },
  {
   "cell_type": "raw",
   "id": "8f8ba595",
   "metadata": {},
   "source": [
    "sc9ts = model8.score(xtest, ytest)\n",
    "sc9ts"
   ]
  },
  {
   "cell_type": "code",
   "execution_count": 182,
   "id": "38ae72d0",
   "metadata": {},
   "outputs": [],
   "source": [
    "#adding values for performance report\n",
    "count = count + 1"
   ]
  },
  {
   "cell_type": "markdown",
   "id": "87ea3528",
   "metadata": {},
   "source": [
    "#### 10) K nearest neighbour"
   ]
  },
  {
   "cell_type": "code",
   "execution_count": 183,
   "id": "59867023",
   "metadata": {},
   "outputs": [
    {
     "data": {
      "text/plain": [
       "KNeighborsRegressor()"
      ]
     },
     "execution_count": 183,
     "metadata": {},
     "output_type": "execute_result"
    }
   ],
   "source": [
    "from sklearn.neighbors import KNeighborsRegressor\n",
    "\n",
    "model10 = KNeighborsRegressor()\n",
    "model10.fit(xtrain, ytrain)"
   ]
  },
  {
   "cell_type": "code",
   "execution_count": 184,
   "id": "bb90fcaa",
   "metadata": {},
   "outputs": [
    {
     "data": {
      "text/plain": [
       "0.24545084161908148"
      ]
     },
     "execution_count": 184,
     "metadata": {},
     "output_type": "execute_result"
    }
   ],
   "source": [
    "sc10tr = model10.score(xtrain, ytrain)\n",
    "sc10tr"
   ]
  },
  {
   "cell_type": "code",
   "execution_count": 185,
   "id": "d42eb55b",
   "metadata": {},
   "outputs": [
    {
     "data": {
      "text/plain": [
       "-0.15547305865826022"
      ]
     },
     "execution_count": 185,
     "metadata": {},
     "output_type": "execute_result"
    }
   ],
   "source": [
    "sc10ts = model10.score(xtest, ytest)\n",
    "sc10ts"
   ]
  },
  {
   "cell_type": "code",
   "execution_count": 186,
   "id": "79c486c0",
   "metadata": {},
   "outputs": [],
   "source": [
    "#adding values for performance report\n",
    "count = count + 1"
   ]
  },
  {
   "cell_type": "markdown",
   "id": "70d4160e",
   "metadata": {},
   "source": [
    "#### 11) LGBMBoost"
   ]
  },
  {
   "cell_type": "code",
   "execution_count": 187,
   "id": "b6cb7d40",
   "metadata": {},
   "outputs": [
    {
     "data": {
      "text/plain": [
       "LGBMRegressor(random_state=42)"
      ]
     },
     "execution_count": 187,
     "metadata": {},
     "output_type": "execute_result"
    }
   ],
   "source": [
    "from lightgbm import LGBMRegressor\n",
    "\n",
    "model11 = LGBMRegressor(random_state= rdst)\n",
    "model11.fit(xtrain, ytrain)"
   ]
  },
  {
   "cell_type": "code",
   "execution_count": 188,
   "id": "9ff6d770",
   "metadata": {},
   "outputs": [
    {
     "data": {
      "text/plain": [
       "0.8089043853367734"
      ]
     },
     "execution_count": 188,
     "metadata": {},
     "output_type": "execute_result"
    }
   ],
   "source": [
    "sc11tr = model11.score(xtrain, ytrain)\n",
    "sc11tr"
   ]
  },
  {
   "cell_type": "code",
   "execution_count": 189,
   "id": "9d16a150",
   "metadata": {},
   "outputs": [
    {
     "data": {
      "text/plain": [
       "0.7880384822742565"
      ]
     },
     "execution_count": 189,
     "metadata": {},
     "output_type": "execute_result"
    }
   ],
   "source": [
    "sc11ts = model11.score(xtest, ytest)\n",
    "sc11ts "
   ]
  },
  {
   "cell_type": "code",
   "execution_count": 190,
   "id": "b1627fb6",
   "metadata": {},
   "outputs": [],
   "source": [
    "#adding values for performance report\n",
    "count = count + 1"
   ]
  },
  {
   "cell_type": "markdown",
   "id": "759038d9",
   "metadata": {},
   "source": [
    "#### 12) CatBoostRegressor"
   ]
  },
  {
   "cell_type": "raw",
   "id": "c56de0e8",
   "metadata": {},
   "source": [
    "from catboost import CatBoostRegressor\n",
    "\n",
    "model12 = CatBoostRegressor(random_state= 42)\n",
    "model12.fit(xtrain, ytrain)"
   ]
  },
  {
   "cell_type": "raw",
   "id": "dd814cbc",
   "metadata": {},
   "source": [
    "sc12tr = model12.score(xtrain, ytrain)\n",
    "sc12tr"
   ]
  },
  {
   "cell_type": "raw",
   "id": "554ad4ed",
   "metadata": {},
   "source": [
    "sc12ts = model12.score(xtest, ytest)\n",
    "sc12ts"
   ]
  },
  {
   "cell_type": "code",
   "execution_count": 191,
   "id": "17bf557d",
   "metadata": {},
   "outputs": [],
   "source": [
    "#adding values for performance report\n",
    "count = count + 1"
   ]
  },
  {
   "cell_type": "markdown",
   "id": "351e8ca3",
   "metadata": {},
   "source": [
    "#### 13) XGBoostRegressor"
   ]
  },
  {
   "cell_type": "code",
   "execution_count": 192,
   "id": "78c0cef2",
   "metadata": {},
   "outputs": [
    {
     "data": {
      "text/plain": [
       "XGBRegressor(base_score=None, booster=None, callbacks=None,\n",
       "             colsample_bylevel=None, colsample_bynode=None,\n",
       "             colsample_bytree=None, early_stopping_rounds=None,\n",
       "             enable_categorical=False, eval_metric=None, feature_types=None,\n",
       "             gamma=None, gpu_id=None, grow_policy=None, importance_type=None,\n",
       "             interaction_constraints=None, learning_rate=None, max_bin=None,\n",
       "             max_cat_threshold=None, max_cat_to_onehot=None,\n",
       "             max_delta_step=None, max_depth=None, max_leaves=None,\n",
       "             min_child_weight=None, missing=nan, monotone_constraints=None,\n",
       "             n_estimators=100, n_jobs=None, num_parallel_tree=None,\n",
       "             predictor=None, random_state=42, ...)"
      ]
     },
     "execution_count": 192,
     "metadata": {},
     "output_type": "execute_result"
    }
   ],
   "source": [
    "from xgboost.sklearn import XGBRegressor\n",
    "\n",
    "model13 = XGBRegressor(random_state= rdst)\n",
    "model13.fit(xtrain, ytrain)"
   ]
  },
  {
   "cell_type": "code",
   "execution_count": 193,
   "id": "3723ace1",
   "metadata": {},
   "outputs": [
    {
     "data": {
      "text/plain": [
       "0.9124608928594679"
      ]
     },
     "execution_count": 193,
     "metadata": {},
     "output_type": "execute_result"
    }
   ],
   "source": [
    "sc13tr = model13.score(xtrain, ytrain)\n",
    "sc13tr"
   ]
  },
  {
   "cell_type": "code",
   "execution_count": 194,
   "id": "9a18aacc",
   "metadata": {},
   "outputs": [
    {
     "data": {
      "text/plain": [
       "0.8049045508684342"
      ]
     },
     "execution_count": 194,
     "metadata": {},
     "output_type": "execute_result"
    }
   ],
   "source": [
    "sc13ts = model13.score(xtest, ytest)\n",
    "sc13ts "
   ]
  },
  {
   "cell_type": "code",
   "execution_count": 195,
   "id": "0fdc4cb6",
   "metadata": {},
   "outputs": [],
   "source": [
    "#adding values for performance report\n",
    "count = count + 1"
   ]
  },
  {
   "cell_type": "markdown",
   "id": "9f5d2163",
   "metadata": {},
   "source": [
    "### Performance of Algorithms"
   ]
  },
  {
   "cell_type": "code",
   "execution_count": 196,
   "id": "f8868531",
   "metadata": {},
   "outputs": [],
   "source": [
    "mnumber = list()\n",
    "mname = list()\n",
    "trains = list()\n",
    "tests = list()"
   ]
  },
  {
   "cell_type": "code",
   "execution_count": 197,
   "id": "a426f78a",
   "metadata": {},
   "outputs": [],
   "source": [
    "mnumber.extend(np.arange(1,count+1))\n",
    "\n",
    "mname.extend([\"DecisionTreeRegressor\",\"SVM\",\"SGDRegressor\",\"BaggingRegressor\",\"AdaBoostRegressor\",\"GradientBoostingRegressor\",\n",
    "                 \"RandomForestRegressor\",\"SimpleLinearRegression\",\"GausianRegressor\",\"K nearest neighbour\",\"LGBMBoost\",\n",
    "                 \"CatBoostRegressor\",\"XGBRegressor\"])\n",
    "\n",
    "trains.extend([sc1tr,sc2tr,sc3tr,sc4tr,sc5tr,sc6tr,sc7tr,sc8tr,sc9tr,sc10tr,sc11tr,sc12tr,sc13tr])\n",
    "\n",
    "tests.extend([sc1ts,sc2ts,sc3ts,sc4ts,sc5ts,sc6ts,sc7ts,sc8ts,sc9ts,sc10ts,sc11ts,sc12ts,sc13ts])"
   ]
  },
  {
   "cell_type": "code",
   "execution_count": 198,
   "id": "deeccde9",
   "metadata": {},
   "outputs": [],
   "source": [
    "# Rounding percentages to two decimals and checking if model was executed\n",
    "\n",
    "def myfunc(x):\n",
    "    x = x * 100\n",
    "    return format(x,\".2f\")\n",
    "\n",
    "def executed(x):\n",
    "    if x == '0.00':\n",
    "        x = 'Not Executed'\n",
    "    return x"
   ]
  },
  {
   "cell_type": "code",
   "execution_count": 199,
   "id": "3be839c8",
   "metadata": {},
   "outputs": [],
   "source": [
    "trains = list(map(myfunc, trains))"
   ]
  },
  {
   "cell_type": "code",
   "execution_count": 200,
   "id": "1fc194a4",
   "metadata": {},
   "outputs": [],
   "source": [
    "trains = list(map(executed, trains))"
   ]
  },
  {
   "cell_type": "code",
   "execution_count": 201,
   "id": "6944fded",
   "metadata": {},
   "outputs": [],
   "source": [
    "tests = list(map(myfunc, tests))"
   ]
  },
  {
   "cell_type": "code",
   "execution_count": 202,
   "id": "62b0b547",
   "metadata": {},
   "outputs": [],
   "source": [
    "tests = list(map(executed, tests))"
   ]
  },
  {
   "cell_type": "code",
   "execution_count": 143,
   "id": "cc970b47",
   "metadata": {},
   "outputs": [],
   "source": [
    "results_dict = {\"Model No.\": mnumber, \"Model name\": mname,\n",
    "               \"Training Accuracy\": trains, \"Testing Accuracy\": tests}"
   ]
  },
  {
   "cell_type": "code",
   "execution_count": 144,
   "id": "90a825da",
   "metadata": {},
   "outputs": [
    {
     "data": {
      "text/html": [
       "<div>\n",
       "<style scoped>\n",
       "    .dataframe tbody tr th:only-of-type {\n",
       "        vertical-align: middle;\n",
       "    }\n",
       "\n",
       "    .dataframe tbody tr th {\n",
       "        vertical-align: top;\n",
       "    }\n",
       "\n",
       "    .dataframe thead th {\n",
       "        text-align: right;\n",
       "    }\n",
       "</style>\n",
       "<table border=\"1\" class=\"dataframe\">\n",
       "  <thead>\n",
       "    <tr style=\"text-align: right;\">\n",
       "      <th></th>\n",
       "      <th>Model No.</th>\n",
       "      <th>Model name</th>\n",
       "      <th>Training Accuracy</th>\n",
       "      <th>Testing Accuracy</th>\n",
       "    </tr>\n",
       "  </thead>\n",
       "  <tbody>\n",
       "    <tr>\n",
       "      <th>0</th>\n",
       "      <td>1</td>\n",
       "      <td>DecisionTreeRegressor</td>\n",
       "      <td>60.28</td>\n",
       "      <td>57.86</td>\n",
       "    </tr>\n",
       "    <tr>\n",
       "      <th>1</th>\n",
       "      <td>2</td>\n",
       "      <td>SVM</td>\n",
       "      <td>Not Executed</td>\n",
       "      <td>Not Executed</td>\n",
       "    </tr>\n",
       "    <tr>\n",
       "      <th>2</th>\n",
       "      <td>3</td>\n",
       "      <td>SGDRegressor</td>\n",
       "      <td>-438876770370259651657728.00</td>\n",
       "      <td>-388649030645497173377024.00</td>\n",
       "    </tr>\n",
       "    <tr>\n",
       "      <th>3</th>\n",
       "      <td>4</td>\n",
       "      <td>BaggingRegressor</td>\n",
       "      <td>65.23</td>\n",
       "      <td>63.36</td>\n",
       "    </tr>\n",
       "    <tr>\n",
       "      <th>4</th>\n",
       "      <td>5</td>\n",
       "      <td>AdaBoostRegressor</td>\n",
       "      <td>-222.72</td>\n",
       "      <td>-233.03</td>\n",
       "    </tr>\n",
       "    <tr>\n",
       "      <th>5</th>\n",
       "      <td>6</td>\n",
       "      <td>GradientBoostingRegressor</td>\n",
       "      <td>77.27</td>\n",
       "      <td>72.90</td>\n",
       "    </tr>\n",
       "    <tr>\n",
       "      <th>6</th>\n",
       "      <td>7</td>\n",
       "      <td>RandomForestRegressor</td>\n",
       "      <td>93.38</td>\n",
       "      <td>78.35</td>\n",
       "    </tr>\n",
       "    <tr>\n",
       "      <th>7</th>\n",
       "      <td>8</td>\n",
       "      <td>SimpleLinearRegression</td>\n",
       "      <td>0.25</td>\n",
       "      <td>0.26</td>\n",
       "    </tr>\n",
       "    <tr>\n",
       "      <th>8</th>\n",
       "      <td>9</td>\n",
       "      <td>GausianRegressor</td>\n",
       "      <td>Not Executed</td>\n",
       "      <td>Not Executed</td>\n",
       "    </tr>\n",
       "    <tr>\n",
       "      <th>9</th>\n",
       "      <td>10</td>\n",
       "      <td>K nearest neighbour</td>\n",
       "      <td>24.07</td>\n",
       "      <td>-12.59</td>\n",
       "    </tr>\n",
       "    <tr>\n",
       "      <th>10</th>\n",
       "      <td>11</td>\n",
       "      <td>LGBMBoost</td>\n",
       "      <td>81.26</td>\n",
       "      <td>77.39</td>\n",
       "    </tr>\n",
       "    <tr>\n",
       "      <th>11</th>\n",
       "      <td>12</td>\n",
       "      <td>CatBoostRegressor</td>\n",
       "      <td>Not Executed</td>\n",
       "      <td>Not Executed</td>\n",
       "    </tr>\n",
       "    <tr>\n",
       "      <th>12</th>\n",
       "      <td>13</td>\n",
       "      <td>XGBRegressor</td>\n",
       "      <td>90.88</td>\n",
       "      <td>76.92</td>\n",
       "    </tr>\n",
       "  </tbody>\n",
       "</table>\n",
       "</div>"
      ],
      "text/plain": [
       "    Model No.                 Model name             Training Accuracy  \\\n",
       "0           1      DecisionTreeRegressor                         60.28   \n",
       "1           2                        SVM                  Not Executed   \n",
       "2           3               SGDRegressor  -438876770370259651657728.00   \n",
       "3           4           BaggingRegressor                         65.23   \n",
       "4           5          AdaBoostRegressor                       -222.72   \n",
       "5           6  GradientBoostingRegressor                         77.27   \n",
       "6           7      RandomForestRegressor                         93.38   \n",
       "7           8     SimpleLinearRegression                          0.25   \n",
       "8           9           GausianRegressor                  Not Executed   \n",
       "9          10        K nearest neighbour                         24.07   \n",
       "10         11                  LGBMBoost                         81.26   \n",
       "11         12          CatBoostRegressor                  Not Executed   \n",
       "12         13               XGBRegressor                         90.88   \n",
       "\n",
       "                Testing Accuracy  \n",
       "0                          57.86  \n",
       "1                   Not Executed  \n",
       "2   -388649030645497173377024.00  \n",
       "3                          63.36  \n",
       "4                        -233.03  \n",
       "5                          72.90  \n",
       "6                          78.35  \n",
       "7                           0.26  \n",
       "8                   Not Executed  \n",
       "9                         -12.59  \n",
       "10                         77.39  \n",
       "11                  Not Executed  \n",
       "12                         76.92  "
      ]
     },
     "execution_count": 144,
     "metadata": {},
     "output_type": "execute_result"
    }
   ],
   "source": [
    "perf = pd.DataFrame(results_dict)\n",
    "perf"
   ]
  },
  {
   "cell_type": "code",
   "execution_count": null,
   "id": "b725e069",
   "metadata": {},
   "outputs": [],
   "source": []
  }
 ],
 "metadata": {
  "kernelspec": {
   "display_name": "Python 3 (ipykernel)",
   "language": "python",
   "name": "python3"
  },
  "language_info": {
   "codemirror_mode": {
    "name": "ipython",
    "version": 3
   },
   "file_extension": ".py",
   "mimetype": "text/x-python",
   "name": "python",
   "nbconvert_exporter": "python",
   "pygments_lexer": "ipython3",
   "version": "3.9.12"
  }
 },
 "nbformat": 4,
 "nbformat_minor": 5
}
